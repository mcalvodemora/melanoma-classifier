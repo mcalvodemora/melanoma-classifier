{
 "cells": [
  {
   "cell_type": "markdown",
   "metadata": {},
   "source": [
    "<div style=\"display: flex; align-items: center; justify-content: space-between; background-color: #1e355f; padding: 30px;\">\n",
    "    <div>\n",
    "        <h1 style=\"color: white; text-align: center; font-weight: bold;\">Datos No Estructurados: IMAGEN</h1>\n",
    "        <h2 style=\"color: white; text-align: center;\">Clasificador de Melanoma</h2>\n",
    "    </div>\n",
    "\n",
    "</div>"
   ]
  },
  {
   "cell_type": "markdown",
   "metadata": {},
   "source": [
    "<div style=\"padding: 5px;\">\n",
    "    <h3 style=\"color: #1e355f; font-weight: bold;\">Realizado por:</h3>\n",
    "</div>\n",
    "\n",
    "- Álvaro Ezquerro Pérez\n",
    "- María Calvo de Mora Román\n",
    "- Celia Quiles Alemañ\n"
   ]
  },
  {
   "cell_type": "code",
   "execution_count": 8,
   "metadata": {},
   "outputs": [],
   "source": [
    "import os\n",
    "import sys\n",
    "import matplotlib.pyplot as plt\n",
    "import seaborn as sns\n",
    "import pandas as pd\n",
    "import scipy\n",
    "import pickle\n",
    "import tensorflow.keras as keras\n",
    "from tensorflow.keras import optimizers\n",
    "from tensorflow.keras import models, layers\n",
    "from tensorflow.keras.preprocessing import image\n",
    "from tensorflow.keras.preprocessing.image import ImageDataGenerator\n",
    "from tensorflow.keras.models import load_model\n",
    "from tensorflow.keras.callbacks import EarlyStopping, ModelCheckpoint\n",
    "\n",
    "# Own modules\n",
    "notebook_path = os.getcwd()\n",
    "if notebook_path not in sys.path:\n",
    "    sys.path.append(notebook_path)\n",
    "project_path = os.path.dirname(notebook_path)\n",
    "if project_path not in sys.path:\n",
    "    sys.path.append(project_path)\n",
    "from utils.helpers import *"
   ]
  },
  {
   "cell_type": "markdown",
   "metadata": {},
   "source": [
    "<div style=\"display: flex; align-items: center; justify-content: space-between; background-color: #1e355f; padding: 10px;\">\n",
    "    <div>\n",
    "        <h1 style=\"color: white; text-align: center; font-weight: bold;\">Modelo Base con dropout, batch normalization y data augmentation </h1>\n",
    "    </div>\n",
    "</div>\n"
   ]
  },
  {
   "cell_type": "markdown",
   "metadata": {},
   "source": [
    "<div style=\"padding: 5px;\">\n",
    "    <h2 style=\"color: #1e355f; font-weight: bold;\">Descripción y Objetivos:</h2>\n",
    "</div>"
   ]
  },
  {
   "cell_type": "markdown",
   "metadata": {},
   "source": [
    "Ante los resultados obtenidos en notebooks anteriores, en este notebook se pretende construir desde cero el mejor modelo posible aplicando simultáneamente dos técncias de regularización (*dropout*, ya vista en el notebook anterior, y *batch normalization*) con el objetivo de aumentar la capacidad de generalización del modelo y suavizar las obtenidas curvas de validación. Además, frente a que únicamente introduciendo la técnica de regularización del *dropout* los resultados no fueron positivos, se procederá a implementar *data augmentation* como implementación adicional para aumentar el tamaño del conjunto de entrenamiento y mejorar así la generalización del modelo."
   ]
  },
  {
   "cell_type": "markdown",
   "metadata": {},
   "source": [
    "<div style=\"padding: 5px;\">\n",
    "    <h2 style=\"color: #1e355f; font-weight: bold;\">Introducción:</h2>\n",
    "</div>"
   ]
  },
  {
   "cell_type": "markdown",
   "metadata": {},
   "source": [
    "La normalización de lotes es una técnica de regularización utilizada para acelerar el entrenamiento y reducir el sobreajuste ajustando las entradas de cada capa para que tengan una media cero y una varianza uno (*Figura 1*). Esto permite que las entradas mantengan la misma distribución a través de las capas, estabilizando así el proceso de entrenamiento. Para lograr esto, se implementan los siguientes pasos:\n",
    "1) Calcular la media y la varianza de las entradas sobre el lote actual.\n",
    "2) Normalizar las entradas, es decir, restar la media y dividir por la desviación estándar.\n",
    "3) Escalar y desplazar las entradas normalizadas usando los parámetros ajustables alpha y beta.\n",
    "\n",
    "Por otro lado, data augmentation es una técnica utilizada para aumentar artificialmente el tamaño de un conjunto de entrenamiento creando versiones modificadas de las imágenes en el conjunto. Esto se logra aplicando transformaciones aleatorias a las imágenes como volteos, recortes, rotaciones o desplazamientos (*Figura 2*).\n",
    "\n",
    "La idea debajo de ello es que el modelo nunca vea exactamente la misma imagen dos veces durante el entrenamiento. Esto expone al modelo a más aspectos de los datos y le permite generalizar mejor. Esto es útil en casos en que el modelo tenderá a sobreajustarse rápidamente, el cual parece ser nuestro caso por los resultados obtenidos hasta ahora. Por lo tanto, poder aumentar el conjunto de entrenamiento será crucial para evitar el sobreajuste y obtener un modelo robusto, es decir, que se desempeñe bien con datos nuevos (suavizando así las curvas de las métricas abruptas obtenidas anteriormente).\n",
    "\n",
    "En cuanto a esta técnica, es importante tener en cuenta que sólo aplica al conjunto de entrenamiento, no al conjunto de validación, y que no en todos los casos todas las transformaciones posibles son aplicables a una imagen dada, por lo que es crucial asegurarse de que la imagen transformada siga siendo válida."
   ]
  },
  {
   "cell_type": "markdown",
   "metadata": {},
   "source": [
    "<div style=\"text-align: center;\"> \n",
    "    <img src=\"..\\..\\imgs\\batch_normalization.jpg\" width=\"500\" height=\"300\">\n",
    "    <p style=\"font-style: italic;\">Técnica de regularización batch normalization.</p>\n",
    "    <p style=\"font-size: small;\">Fuente: <a href=\"https://www.youtube.com/watch?v=a-2dH0Bu2Us\">Batch Normaliztion. Recuperado de [https://www.youtube.com/watch?v=a-2dH0Bu2Us]</a></p>\n",
    "</div>"
   ]
  },
  {
   "cell_type": "markdown",
   "metadata": {},
   "source": [
    "<div style=\"text-align: center;\"> \n",
    "    <img src=\"..\\..\\imgs\\data_aug.png\" width=\"500\" height=\"300\">\n",
    "    <p style=\"font-style: italic;\">Transformaciones posibles con Data Augmentation</p>\n",
    "    <p style=\"font-size: small;\">Fuente: <a href=\"https://www.datacamp.com/tutorial/complete-guide-data-augmentation\">All,A. (Nov,2022). A Complete Guide to Data Agumentation. Recuperado de [https://www.datacamp.com/tutorial/complete-guide-data-augmentation]</a></p>\n",
    "</div>"
   ]
  },
  {
   "cell_type": "markdown",
   "metadata": {},
   "source": [
    "<div style=\"padding: 5px;\">\n",
    "    <h2 style=\"color: #1e355f; font-weight: bold;\">Preparación y carga de datos:</h2>\n",
    "</div>"
   ]
  },
  {
   "cell_type": "markdown",
   "metadata": {},
   "source": [
    "En primer lugar, y al igual que en los anteriores casos, cargamos nuestros datos:"
   ]
  },
  {
   "cell_type": "code",
   "execution_count": 3,
   "metadata": {},
   "outputs": [],
   "source": [
    "# Carpeta base\n",
    "base_dir = \"../../data\"\n",
    "# Carpeta de entrenamiento\n",
    "train_dir = os.path.join(base_dir, \"train\")\n",
    "# Carpeta de test\n",
    "test_dir = os.path.join(base_dir, \"test\")\n",
    "\n",
    "# Obtén la información de cada conjunto\n",
    "num_classes_train, images_train = get_num_classes_images(train_dir)\n",
    "num_classes_test, images_test = get_num_classes_images(test_dir)"
   ]
  },
  {
   "cell_type": "markdown",
   "metadata": {},
   "source": [
    "<div style=\"padding: 5px;\">\n",
    "    <h2 style=\"color: #1e355f; font-weight: bold;\">Preprocesamiento de los datos:</h2>\n",
    "</div>"
   ]
  },
  {
   "cell_type": "markdown",
   "metadata": {},
   "source": [
    "Una vez cargados los datos, procedemos a preprocesarlos para la entrada a la red. En este caso, incluímos como se ha mencionado el paso de data augmentation durante el preprocesado. Por ello, vamos a definir el data augmentation que vamos a aplicar, así como los generadores de imágenes. en este momento, es importante recordar que la técncia de data augmentation no se aplica al conjunto de validación, únicamente al de entrenamiento."
   ]
  },
  {
   "cell_type": "code",
   "execution_count": 12,
   "metadata": {},
   "outputs": [],
   "source": [
    "# Parámetros\n",
    "batch_size = 32 # Tamaño del lote (se establece a 32 porque si no, se alcanza la memoria máxima)\n",
    "input_shape = (300, 300, 3)"
   ]
  },
  {
   "cell_type": "code",
   "execution_count": 13,
   "metadata": {},
   "outputs": [],
   "source": [
    "## Inicializar generador de imágenes\n",
    "# Para el conjunto de entrenamiento\n",
    "train_datagen = ImageDataGenerator(\n",
    "    rescale=1./255, # Normalizar los valores de todos los píxeles\n",
    "    rotation_range=5, # Rango de grados para rotaciones aleatorias\n",
    "    width_shift_range=0.1, # Rango de fracción para traslación horizontal\n",
    "    height_shift_range=0.1, # Rango de fracción para traslación vertical\n",
    "    brightness_range=(0.9, 1), # Rango de brillo\n",
    "    zoom_range=[0.95, 1.05], # Rango de zoom\n",
    "    horizontal_flip=True, # Volteo horizontal\n",
    "    fill_mode=\"nearest\" # Relleno de píxeles\n",
    ")\n",
    "# Para el conjunto de test\n",
    "test_datagen = ImageDataGenerator(\n",
    "    rescale=1./255, # Normalizar los valores de todos los píxeles\n",
    ")"
   ]
  },
  {
   "cell_type": "code",
   "execution_count": 14,
   "metadata": {},
   "outputs": [
    {
     "name": "stdout",
     "output_type": "stream",
     "text": [
      "Found 9210 images belonging to 2 classes.\n",
      "Found 1000 images belonging to 2 classes.\n"
     ]
    }
   ],
   "source": [
    "# Creación del generador de entrenamiento\n",
    "train_generator = train_datagen.flow_from_directory(\n",
    "    train_dir, # Directorio de entrenamiento\n",
    "    target_size=(input_shape[0], input_shape[1]), # Tamaño de las imágenes\n",
    "    batch_size=batch_size, # Tamaño del batch\n",
    "    class_mode='categorical', # Tipo de problema\n",
    "    shuffle=True # Mezclar las imágenes (batches con variedad aleatoria)\n",
    ")\n",
    "\n",
    "# Creación del generador de test\n",
    "test_generator = test_datagen.flow_from_directory(\n",
    "    test_dir, # Directorio de test\n",
    "    target_size=(input_shape[0], input_shape[1]), # Tamaño de las imágenes\n",
    "    batch_size=batch_size, # Tamaño del batch\n",
    "    class_mode='categorical', # Tipo de problema\n",
    "    shuffle=False # No es necesario mezclar las imágenes (típico en test para mantener un orden consistente)\n",
    ")"
   ]
  },
  {
   "cell_type": "markdown",
   "metadata": {},
   "source": [
    "Como siempre, una vez configurados los generadores de imágenes para los conjuntos de entrenamiento y de test, vamos a verificar que las dimensiones de los lotes de datos (`data_batch`) y de las etiquetas (`labels_batch`) sean las esperadas:"
   ]
  },
  {
   "cell_type": "code",
   "execution_count": 15,
   "metadata": {},
   "outputs": [
    {
     "name": "stdout",
     "output_type": "stream",
     "text": [
      "Tamano del batch: (32, 300, 300, 3)\n",
      "Tamano de las etiquetas: (32, 2)\n"
     ]
    }
   ],
   "source": [
    "for data_batch, labels_batch in train_generator:\n",
    "    print('Tamano del batch:', data_batch.shape)\n",
    "    print('Tamano de las etiquetas:', labels_batch.shape)\n",
    "    break"
   ]
  },
  {
   "cell_type": "markdown",
   "metadata": {},
   "source": [
    "Efectivamente, podemos afirmar que nuestras imágenes tienen unas dimensiones 300x300 píxeles y 3 canales RGB, es decir, a color. Además, el tamaño de los bathes es efectivamente 32 como se ha definido. "
   ]
  },
  {
   "cell_type": "markdown",
   "metadata": {},
   "source": [
    "<div style=\"padding: 5px;\">\n",
    "    <h2 style=\"color: #1e355f; font-weight: bold;\">Estructura del modelo:</h2>\n",
    "</div>"
   ]
  },
  {
   "cell_type": "markdown",
   "metadata": {},
   "source": [
    "Vamos ahora a crear la estrcutura del modelo de igual manera que en el notebook `2_CNN_dropout`, es decir, volverá a incluir la regularización de *dropout* con la única diferencia de que añadiremos normalización por lotes justo después de cada capa de pooling"
   ]
  },
  {
   "cell_type": "code",
   "execution_count": 16,
   "metadata": {},
   "outputs": [
    {
     "name": "stdout",
     "output_type": "stream",
     "text": [
      "Tamano del conjunto de entrenamiento: 9210\n",
      "Numero de batches por epoca: 287\n"
     ]
    }
   ],
   "source": [
    "# Definición de hiperparámetros\n",
    "training_size = sum([len(files) for r, d, files in os.walk(train_dir)])\n",
    "num_batches_per_epoch = training_size // batch_size\n",
    "print(f\"Tamano del conjunto de entrenamiento: {training_size}\")\n",
    "print(f\"Numero de batches por epoca: {num_batches_per_epoch}\")"
   ]
  },
  {
   "cell_type": "code",
   "execution_count": 17,
   "metadata": {},
   "outputs": [
    {
     "name": "stderr",
     "output_type": "stream",
     "text": [
      "c:\\Users\\mcalv\\anaconda3\\envs\\ML2-DL\\lib\\site-packages\\keras\\src\\layers\\convolutional\\base_conv.py:107: UserWarning: Do not pass an `input_shape`/`input_dim` argument to a layer. When using Sequential models, prefer using an `Input(shape)` object as the first layer in the model instead.\n",
      "  super().__init__(activity_regularizer=activity_regularizer, **kwargs)\n"
     ]
    }
   ],
   "source": [
    "# Definición de la red\n",
    "model = models.Sequential()\n",
    "# Primera capa convolucional\n",
    "model.add(layers.Conv2D(32, (3, 3), activation='relu',\n",
    "                        input_shape=input_shape\n",
    "                        )\n",
    ")\n",
    "# Primera capa de pooling\n",
    "model.add(layers.MaxPooling2D((2, 2)))\n",
    "model.add(layers.BatchNormalization())\n",
    "# Tercera capa convolucional\n",
    "model.add(layers.Conv2D(64, \n",
    "                        (3, 3), \n",
    "                        activation='relu'\n",
    "                        )\n",
    ")\n",
    "# Tercera capa de pooling\n",
    "model.add(layers.MaxPooling2D((2, 2)))\n",
    "model.add(layers.BatchNormalization())\n",
    "# Cuarta capa convolucional\n",
    "model.add(layers.Conv2D(128, \n",
    "                        (3, 3), \n",
    "                        activation='relu'\n",
    "                        )\n",
    ")\n",
    "# Cuarta capa de pooling\n",
    "model.add(layers.MaxPooling2D((2, 2)))\n",
    "model.add(layers.BatchNormalization())\n",
    "\n",
    "# Capa de aplanamiento\n",
    "model.add(layers.Flatten())\n",
    "# Capa densa\n",
    "model.add(layers.Dense(512, activation='relu'))\n",
    "# Capa de dropout\n",
    "model.add(layers.Dropout(0.5))\n",
    "# Capa de salida\n",
    "model.add(layers.Dense(2, activation='softmax'))"
   ]
  },
  {
   "cell_type": "markdown",
   "metadata": {},
   "source": [
    "Una vez definida la estructura, vamos a comprobar cuántos parametros tiene con el objetivo de hacernos una idea de la complejidad y flexibilidad del modelo:"
   ]
  },
  {
   "cell_type": "code",
   "execution_count": 18,
   "metadata": {},
   "outputs": [
    {
     "data": {
      "text/html": [
       "<pre style=\"white-space:pre;overflow-x:auto;line-height:normal;font-family:Menlo,'DejaVu Sans Mono',consolas,'Courier New',monospace\"><span style=\"font-weight: bold\">Model: \"sequential\"</span>\n",
       "</pre>\n"
      ],
      "text/plain": [
       "\u001b[1mModel: \"sequential\"\u001b[0m\n"
      ]
     },
     "metadata": {},
     "output_type": "display_data"
    },
    {
     "data": {
      "text/html": [
       "<pre style=\"white-space:pre;overflow-x:auto;line-height:normal;font-family:Menlo,'DejaVu Sans Mono',consolas,'Courier New',monospace\">┏━━━━━━━━━━━━━━━━━━━━━━━━━━━━━━━━━┳━━━━━━━━━━━━━━━━━━━━━━━━┳━━━━━━━━━━━━━━━┓\n",
       "┃<span style=\"font-weight: bold\"> Layer (type)                    </span>┃<span style=\"font-weight: bold\"> Output Shape           </span>┃<span style=\"font-weight: bold\">       Param # </span>┃\n",
       "┡━━━━━━━━━━━━━━━━━━━━━━━━━━━━━━━━━╇━━━━━━━━━━━━━━━━━━━━━━━━╇━━━━━━━━━━━━━━━┩\n",
       "│ conv2d (<span style=\"color: #0087ff; text-decoration-color: #0087ff\">Conv2D</span>)                 │ (<span style=\"color: #00d7ff; text-decoration-color: #00d7ff\">None</span>, <span style=\"color: #00af00; text-decoration-color: #00af00\">298</span>, <span style=\"color: #00af00; text-decoration-color: #00af00\">298</span>, <span style=\"color: #00af00; text-decoration-color: #00af00\">32</span>)   │           <span style=\"color: #00af00; text-decoration-color: #00af00\">896</span> │\n",
       "├─────────────────────────────────┼────────────────────────┼───────────────┤\n",
       "│ max_pooling2d (<span style=\"color: #0087ff; text-decoration-color: #0087ff\">MaxPooling2D</span>)    │ (<span style=\"color: #00d7ff; text-decoration-color: #00d7ff\">None</span>, <span style=\"color: #00af00; text-decoration-color: #00af00\">149</span>, <span style=\"color: #00af00; text-decoration-color: #00af00\">149</span>, <span style=\"color: #00af00; text-decoration-color: #00af00\">32</span>)   │             <span style=\"color: #00af00; text-decoration-color: #00af00\">0</span> │\n",
       "├─────────────────────────────────┼────────────────────────┼───────────────┤\n",
       "│ batch_normalization             │ (<span style=\"color: #00d7ff; text-decoration-color: #00d7ff\">None</span>, <span style=\"color: #00af00; text-decoration-color: #00af00\">149</span>, <span style=\"color: #00af00; text-decoration-color: #00af00\">149</span>, <span style=\"color: #00af00; text-decoration-color: #00af00\">32</span>)   │           <span style=\"color: #00af00; text-decoration-color: #00af00\">128</span> │\n",
       "│ (<span style=\"color: #0087ff; text-decoration-color: #0087ff\">BatchNormalization</span>)            │                        │               │\n",
       "├─────────────────────────────────┼────────────────────────┼───────────────┤\n",
       "│ conv2d_1 (<span style=\"color: #0087ff; text-decoration-color: #0087ff\">Conv2D</span>)               │ (<span style=\"color: #00d7ff; text-decoration-color: #00d7ff\">None</span>, <span style=\"color: #00af00; text-decoration-color: #00af00\">147</span>, <span style=\"color: #00af00; text-decoration-color: #00af00\">147</span>, <span style=\"color: #00af00; text-decoration-color: #00af00\">64</span>)   │        <span style=\"color: #00af00; text-decoration-color: #00af00\">18,496</span> │\n",
       "├─────────────────────────────────┼────────────────────────┼───────────────┤\n",
       "│ max_pooling2d_1 (<span style=\"color: #0087ff; text-decoration-color: #0087ff\">MaxPooling2D</span>)  │ (<span style=\"color: #00d7ff; text-decoration-color: #00d7ff\">None</span>, <span style=\"color: #00af00; text-decoration-color: #00af00\">73</span>, <span style=\"color: #00af00; text-decoration-color: #00af00\">73</span>, <span style=\"color: #00af00; text-decoration-color: #00af00\">64</span>)     │             <span style=\"color: #00af00; text-decoration-color: #00af00\">0</span> │\n",
       "├─────────────────────────────────┼────────────────────────┼───────────────┤\n",
       "│ batch_normalization_1           │ (<span style=\"color: #00d7ff; text-decoration-color: #00d7ff\">None</span>, <span style=\"color: #00af00; text-decoration-color: #00af00\">73</span>, <span style=\"color: #00af00; text-decoration-color: #00af00\">73</span>, <span style=\"color: #00af00; text-decoration-color: #00af00\">64</span>)     │           <span style=\"color: #00af00; text-decoration-color: #00af00\">256</span> │\n",
       "│ (<span style=\"color: #0087ff; text-decoration-color: #0087ff\">BatchNormalization</span>)            │                        │               │\n",
       "├─────────────────────────────────┼────────────────────────┼───────────────┤\n",
       "│ conv2d_2 (<span style=\"color: #0087ff; text-decoration-color: #0087ff\">Conv2D</span>)               │ (<span style=\"color: #00d7ff; text-decoration-color: #00d7ff\">None</span>, <span style=\"color: #00af00; text-decoration-color: #00af00\">71</span>, <span style=\"color: #00af00; text-decoration-color: #00af00\">71</span>, <span style=\"color: #00af00; text-decoration-color: #00af00\">128</span>)    │        <span style=\"color: #00af00; text-decoration-color: #00af00\">73,856</span> │\n",
       "├─────────────────────────────────┼────────────────────────┼───────────────┤\n",
       "│ max_pooling2d_2 (<span style=\"color: #0087ff; text-decoration-color: #0087ff\">MaxPooling2D</span>)  │ (<span style=\"color: #00d7ff; text-decoration-color: #00d7ff\">None</span>, <span style=\"color: #00af00; text-decoration-color: #00af00\">35</span>, <span style=\"color: #00af00; text-decoration-color: #00af00\">35</span>, <span style=\"color: #00af00; text-decoration-color: #00af00\">128</span>)    │             <span style=\"color: #00af00; text-decoration-color: #00af00\">0</span> │\n",
       "├─────────────────────────────────┼────────────────────────┼───────────────┤\n",
       "│ batch_normalization_2           │ (<span style=\"color: #00d7ff; text-decoration-color: #00d7ff\">None</span>, <span style=\"color: #00af00; text-decoration-color: #00af00\">35</span>, <span style=\"color: #00af00; text-decoration-color: #00af00\">35</span>, <span style=\"color: #00af00; text-decoration-color: #00af00\">128</span>)    │           <span style=\"color: #00af00; text-decoration-color: #00af00\">512</span> │\n",
       "│ (<span style=\"color: #0087ff; text-decoration-color: #0087ff\">BatchNormalization</span>)            │                        │               │\n",
       "├─────────────────────────────────┼────────────────────────┼───────────────┤\n",
       "│ flatten (<span style=\"color: #0087ff; text-decoration-color: #0087ff\">Flatten</span>)               │ (<span style=\"color: #00d7ff; text-decoration-color: #00d7ff\">None</span>, <span style=\"color: #00af00; text-decoration-color: #00af00\">156800</span>)         │             <span style=\"color: #00af00; text-decoration-color: #00af00\">0</span> │\n",
       "├─────────────────────────────────┼────────────────────────┼───────────────┤\n",
       "│ dense (<span style=\"color: #0087ff; text-decoration-color: #0087ff\">Dense</span>)                   │ (<span style=\"color: #00d7ff; text-decoration-color: #00d7ff\">None</span>, <span style=\"color: #00af00; text-decoration-color: #00af00\">512</span>)            │    <span style=\"color: #00af00; text-decoration-color: #00af00\">80,282,112</span> │\n",
       "├─────────────────────────────────┼────────────────────────┼───────────────┤\n",
       "│ dropout (<span style=\"color: #0087ff; text-decoration-color: #0087ff\">Dropout</span>)               │ (<span style=\"color: #00d7ff; text-decoration-color: #00d7ff\">None</span>, <span style=\"color: #00af00; text-decoration-color: #00af00\">512</span>)            │             <span style=\"color: #00af00; text-decoration-color: #00af00\">0</span> │\n",
       "├─────────────────────────────────┼────────────────────────┼───────────────┤\n",
       "│ dense_1 (<span style=\"color: #0087ff; text-decoration-color: #0087ff\">Dense</span>)                 │ (<span style=\"color: #00d7ff; text-decoration-color: #00d7ff\">None</span>, <span style=\"color: #00af00; text-decoration-color: #00af00\">2</span>)              │         <span style=\"color: #00af00; text-decoration-color: #00af00\">1,026</span> │\n",
       "└─────────────────────────────────┴────────────────────────┴───────────────┘\n",
       "</pre>\n"
      ],
      "text/plain": [
       "┏━━━━━━━━━━━━━━━━━━━━━━━━━━━━━━━━━┳━━━━━━━━━━━━━━━━━━━━━━━━┳━━━━━━━━━━━━━━━┓\n",
       "┃\u001b[1m \u001b[0m\u001b[1mLayer (type)                   \u001b[0m\u001b[1m \u001b[0m┃\u001b[1m \u001b[0m\u001b[1mOutput Shape          \u001b[0m\u001b[1m \u001b[0m┃\u001b[1m \u001b[0m\u001b[1m      Param #\u001b[0m\u001b[1m \u001b[0m┃\n",
       "┡━━━━━━━━━━━━━━━━━━━━━━━━━━━━━━━━━╇━━━━━━━━━━━━━━━━━━━━━━━━╇━━━━━━━━━━━━━━━┩\n",
       "│ conv2d (\u001b[38;5;33mConv2D\u001b[0m)                 │ (\u001b[38;5;45mNone\u001b[0m, \u001b[38;5;34m298\u001b[0m, \u001b[38;5;34m298\u001b[0m, \u001b[38;5;34m32\u001b[0m)   │           \u001b[38;5;34m896\u001b[0m │\n",
       "├─────────────────────────────────┼────────────────────────┼───────────────┤\n",
       "│ max_pooling2d (\u001b[38;5;33mMaxPooling2D\u001b[0m)    │ (\u001b[38;5;45mNone\u001b[0m, \u001b[38;5;34m149\u001b[0m, \u001b[38;5;34m149\u001b[0m, \u001b[38;5;34m32\u001b[0m)   │             \u001b[38;5;34m0\u001b[0m │\n",
       "├─────────────────────────────────┼────────────────────────┼───────────────┤\n",
       "│ batch_normalization             │ (\u001b[38;5;45mNone\u001b[0m, \u001b[38;5;34m149\u001b[0m, \u001b[38;5;34m149\u001b[0m, \u001b[38;5;34m32\u001b[0m)   │           \u001b[38;5;34m128\u001b[0m │\n",
       "│ (\u001b[38;5;33mBatchNormalization\u001b[0m)            │                        │               │\n",
       "├─────────────────────────────────┼────────────────────────┼───────────────┤\n",
       "│ conv2d_1 (\u001b[38;5;33mConv2D\u001b[0m)               │ (\u001b[38;5;45mNone\u001b[0m, \u001b[38;5;34m147\u001b[0m, \u001b[38;5;34m147\u001b[0m, \u001b[38;5;34m64\u001b[0m)   │        \u001b[38;5;34m18,496\u001b[0m │\n",
       "├─────────────────────────────────┼────────────────────────┼───────────────┤\n",
       "│ max_pooling2d_1 (\u001b[38;5;33mMaxPooling2D\u001b[0m)  │ (\u001b[38;5;45mNone\u001b[0m, \u001b[38;5;34m73\u001b[0m, \u001b[38;5;34m73\u001b[0m, \u001b[38;5;34m64\u001b[0m)     │             \u001b[38;5;34m0\u001b[0m │\n",
       "├─────────────────────────────────┼────────────────────────┼───────────────┤\n",
       "│ batch_normalization_1           │ (\u001b[38;5;45mNone\u001b[0m, \u001b[38;5;34m73\u001b[0m, \u001b[38;5;34m73\u001b[0m, \u001b[38;5;34m64\u001b[0m)     │           \u001b[38;5;34m256\u001b[0m │\n",
       "│ (\u001b[38;5;33mBatchNormalization\u001b[0m)            │                        │               │\n",
       "├─────────────────────────────────┼────────────────────────┼───────────────┤\n",
       "│ conv2d_2 (\u001b[38;5;33mConv2D\u001b[0m)               │ (\u001b[38;5;45mNone\u001b[0m, \u001b[38;5;34m71\u001b[0m, \u001b[38;5;34m71\u001b[0m, \u001b[38;5;34m128\u001b[0m)    │        \u001b[38;5;34m73,856\u001b[0m │\n",
       "├─────────────────────────────────┼────────────────────────┼───────────────┤\n",
       "│ max_pooling2d_2 (\u001b[38;5;33mMaxPooling2D\u001b[0m)  │ (\u001b[38;5;45mNone\u001b[0m, \u001b[38;5;34m35\u001b[0m, \u001b[38;5;34m35\u001b[0m, \u001b[38;5;34m128\u001b[0m)    │             \u001b[38;5;34m0\u001b[0m │\n",
       "├─────────────────────────────────┼────────────────────────┼───────────────┤\n",
       "│ batch_normalization_2           │ (\u001b[38;5;45mNone\u001b[0m, \u001b[38;5;34m35\u001b[0m, \u001b[38;5;34m35\u001b[0m, \u001b[38;5;34m128\u001b[0m)    │           \u001b[38;5;34m512\u001b[0m │\n",
       "│ (\u001b[38;5;33mBatchNormalization\u001b[0m)            │                        │               │\n",
       "├─────────────────────────────────┼────────────────────────┼───────────────┤\n",
       "│ flatten (\u001b[38;5;33mFlatten\u001b[0m)               │ (\u001b[38;5;45mNone\u001b[0m, \u001b[38;5;34m156800\u001b[0m)         │             \u001b[38;5;34m0\u001b[0m │\n",
       "├─────────────────────────────────┼────────────────────────┼───────────────┤\n",
       "│ dense (\u001b[38;5;33mDense\u001b[0m)                   │ (\u001b[38;5;45mNone\u001b[0m, \u001b[38;5;34m512\u001b[0m)            │    \u001b[38;5;34m80,282,112\u001b[0m │\n",
       "├─────────────────────────────────┼────────────────────────┼───────────────┤\n",
       "│ dropout (\u001b[38;5;33mDropout\u001b[0m)               │ (\u001b[38;5;45mNone\u001b[0m, \u001b[38;5;34m512\u001b[0m)            │             \u001b[38;5;34m0\u001b[0m │\n",
       "├─────────────────────────────────┼────────────────────────┼───────────────┤\n",
       "│ dense_1 (\u001b[38;5;33mDense\u001b[0m)                 │ (\u001b[38;5;45mNone\u001b[0m, \u001b[38;5;34m2\u001b[0m)              │         \u001b[38;5;34m1,026\u001b[0m │\n",
       "└─────────────────────────────────┴────────────────────────┴───────────────┘\n"
      ]
     },
     "metadata": {},
     "output_type": "display_data"
    },
    {
     "data": {
      "text/html": [
       "<pre style=\"white-space:pre;overflow-x:auto;line-height:normal;font-family:Menlo,'DejaVu Sans Mono',consolas,'Courier New',monospace\"><span style=\"font-weight: bold\"> Total params: </span><span style=\"color: #00af00; text-decoration-color: #00af00\">80,377,282</span> (306.61 MB)\n",
       "</pre>\n"
      ],
      "text/plain": [
       "\u001b[1m Total params: \u001b[0m\u001b[38;5;34m80,377,282\u001b[0m (306.61 MB)\n"
      ]
     },
     "metadata": {},
     "output_type": "display_data"
    },
    {
     "data": {
      "text/html": [
       "<pre style=\"white-space:pre;overflow-x:auto;line-height:normal;font-family:Menlo,'DejaVu Sans Mono',consolas,'Courier New',monospace\"><span style=\"font-weight: bold\"> Trainable params: </span><span style=\"color: #00af00; text-decoration-color: #00af00\">80,376,834</span> (306.61 MB)\n",
       "</pre>\n"
      ],
      "text/plain": [
       "\u001b[1m Trainable params: \u001b[0m\u001b[38;5;34m80,376,834\u001b[0m (306.61 MB)\n"
      ]
     },
     "metadata": {},
     "output_type": "display_data"
    },
    {
     "data": {
      "text/html": [
       "<pre style=\"white-space:pre;overflow-x:auto;line-height:normal;font-family:Menlo,'DejaVu Sans Mono',consolas,'Courier New',monospace\"><span style=\"font-weight: bold\"> Non-trainable params: </span><span style=\"color: #00af00; text-decoration-color: #00af00\">448</span> (1.75 KB)\n",
       "</pre>\n"
      ],
      "text/plain": [
       "\u001b[1m Non-trainable params: \u001b[0m\u001b[38;5;34m448\u001b[0m (1.75 KB)\n"
      ]
     },
     "metadata": {},
     "output_type": "display_data"
    }
   ],
   "source": [
    "model.summary()"
   ]
  },
  {
   "cell_type": "markdown",
   "metadata": {},
   "source": [
    "De manera similar a los notebooks anteriores, contamos con aproximadamente un total de 80 millones de parámetros a entrenar en nuestra red. Es decir, el número de parámetros a entrenar no se ha modificado respecto al modelo base aún habiendo añadido la capa de *dropout* y la ténica de *batch normalization* a la estrcutura de la red."
   ]
  },
  {
   "cell_type": "markdown",
   "metadata": {},
   "source": [
    "De nuevo, continuando con lo utilizado  en notebooks anteriores, volvemos a utilizar el optimizador  **Adam (Adaptive Moment Estimation)** yun ratio de aprendizaje (*learning rate*) de 0.0001.\n",
    "\n",
    "La configuración de compilación del modelo se realiza de la siguiente manera:"
   ]
  },
  {
   "cell_type": "code",
   "execution_count": 19,
   "metadata": {},
   "outputs": [],
   "source": [
    "model.compile(\n",
    "    loss='categorical_crossentropy',\n",
    "    optimizer=optimizers.Adam(learning_rate=1e-4),\n",
    "    metrics=['acc']\n",
    ")"
   ]
  },
  {
   "cell_type": "markdown",
   "metadata": {},
   "source": [
    "<div style=\"padding: 5px;\">\n",
    "    <h2 style=\"color: #1e355f; font-weight: bold;\">Entrenamiento del modelo:</h2>\n",
    "</div>"
   ]
  },
  {
   "cell_type": "markdown",
   "metadata": {},
   "source": [
    "Una vez completados todos los pasos anteriores, podemos entrenar esta versión modificada del modelo base. Es importante mencionar, que de nuevo, continuaremos empleando  `EarlyStopping` para limitar el sobre-entrenamiento, y `ModelCheckpoint` para guardar el mejor modelo obtenido durante el entrenamiento. "
   ]
  },
  {
   "cell_type": "code",
   "execution_count": 20,
   "metadata": {},
   "outputs": [
    {
     "name": "stdout",
     "output_type": "stream",
     "text": [
      "Epoch 1/30\n"
     ]
    },
    {
     "name": "stderr",
     "output_type": "stream",
     "text": [
      "c:\\Users\\mcalv\\anaconda3\\envs\\ML2-DL\\lib\\site-packages\\keras\\src\\trainers\\data_adapters\\py_dataset_adapter.py:121: UserWarning: Your `PyDataset` class should call `super().__init__(**kwargs)` in its constructor. `**kwargs` can include `workers`, `use_multiprocessing`, `max_queue_size`. Do not pass these arguments to `fit()`, as they will be ignored.\n",
      "  self._warn_if_super_not_called()\n"
     ]
    },
    {
     "name": "stdout",
     "output_type": "stream",
     "text": [
      "\u001b[1m287/287\u001b[0m \u001b[32m━━━━━━━━━━━━━━━━━━━━\u001b[0m\u001b[37m\u001b[0m \u001b[1m0s\u001b[0m 1s/step - acc: 0.8099 - loss: 3.4533\n",
      "Epoch 1: val_loss improved from inf to 2.37560, saving model to ../../models\\cnn_data_augmentation_model.keras\n",
      "\u001b[1m287/287\u001b[0m \u001b[32m━━━━━━━━━━━━━━━━━━━━\u001b[0m\u001b[37m\u001b[0m \u001b[1m381s\u001b[0m 1s/step - acc: 0.8100 - loss: 3.4525 - val_acc: 0.4313 - val_loss: 2.3756\n",
      "Epoch 2/30\n",
      "\u001b[1m  1/287\u001b[0m \u001b[37m━━━━━━━━━━━━━━━━━━━━\u001b[0m \u001b[1m4:28\u001b[0m 938ms/step - acc: 0.8750 - loss: 2.4021"
     ]
    },
    {
     "name": "stderr",
     "output_type": "stream",
     "text": [
      "c:\\Users\\mcalv\\anaconda3\\envs\\ML2-DL\\lib\\contextlib.py:153: UserWarning: Your input ran out of data; interrupting training. Make sure that your dataset or generator can generate at least `steps_per_epoch * epochs` batches. You may need to use the `.repeat()` function when building your dataset.\n",
      "  self.gen.throw(typ, value, traceback)\n"
     ]
    },
    {
     "name": "stdout",
     "output_type": "stream",
     "text": [
      "\n",
      "Epoch 2: val_loss improved from 2.37560 to 1.69791, saving model to ../../models\\cnn_data_augmentation_model.keras\n",
      "\u001b[1m287/287\u001b[0m \u001b[32m━━━━━━━━━━━━━━━━━━━━\u001b[0m\u001b[37m\u001b[0m \u001b[1m6s\u001b[0m 17ms/step - acc: 0.8750 - loss: 2.4021 - val_acc: 0.5969 - val_loss: 1.6979\n",
      "Epoch 3/30\n",
      "\u001b[1m287/287\u001b[0m \u001b[32m━━━━━━━━━━━━━━━━━━━━\u001b[0m\u001b[37m\u001b[0m \u001b[1m0s\u001b[0m 1s/step - acc: 0.8448 - loss: 2.1685\n",
      "Epoch 3: val_loss improved from 1.69791 to 0.56289, saving model to ../../models\\cnn_data_augmentation_model.keras\n",
      "\u001b[1m287/287\u001b[0m \u001b[32m━━━━━━━━━━━━━━━━━━━━\u001b[0m\u001b[37m\u001b[0m \u001b[1m306s\u001b[0m 1s/step - acc: 0.8448 - loss: 2.1677 - val_acc: 0.9250 - val_loss: 0.5629\n",
      "Epoch 4/30\n",
      "\u001b[1m  1/287\u001b[0m \u001b[37m━━━━━━━━━━━━━━━━━━━━\u001b[0m \u001b[1m4:14\u001b[0m 892ms/step - acc: 0.9062 - loss: 0.5110\n",
      "Epoch 4: val_loss did not improve from 0.56289\n",
      "\u001b[1m287/287\u001b[0m \u001b[32m━━━━━━━━━━━━━━━━━━━━\u001b[0m\u001b[37m\u001b[0m \u001b[1m1s\u001b[0m 849us/step - acc: 0.9062 - loss: 0.5110 - val_acc: 0.3500 - val_loss: 16.3262\n",
      "Epoch 5/30\n",
      "\u001b[1m287/287\u001b[0m \u001b[32m━━━━━━━━━━━━━━━━━━━━\u001b[0m\u001b[37m\u001b[0m \u001b[1m0s\u001b[0m 1s/step - acc: 0.8577 - loss: 1.3141\n",
      "Epoch 5: val_loss improved from 0.56289 to 0.28192, saving model to ../../models\\cnn_data_augmentation_model.keras\n",
      "\u001b[1m287/287\u001b[0m \u001b[32m━━━━━━━━━━━━━━━━━━━━\u001b[0m\u001b[37m\u001b[0m \u001b[1m305s\u001b[0m 1s/step - acc: 0.8577 - loss: 1.3133 - val_acc: 0.9344 - val_loss: 0.2819\n",
      "Epoch 6/30\n",
      "\u001b[1m  1/287\u001b[0m \u001b[37m━━━━━━━━━━━━━━━━━━━━\u001b[0m \u001b[1m3:49\u001b[0m 804ms/step - acc: 0.8462 - loss: 0.3432\n",
      "Epoch 6: val_loss did not improve from 0.28192\n",
      "\u001b[1m287/287\u001b[0m \u001b[32m━━━━━━━━━━━━━━━━━━━━\u001b[0m\u001b[37m\u001b[0m \u001b[1m3s\u001b[0m 6ms/step - acc: 0.8462 - loss: 0.3432 - val_acc: 0.8687 - val_loss: 0.5817\n",
      "Epoch 7/30\n",
      "\u001b[1m287/287\u001b[0m \u001b[32m━━━━━━━━━━━━━━━━━━━━\u001b[0m\u001b[37m\u001b[0m \u001b[1m0s\u001b[0m 1s/step - acc: 0.8736 - loss: 0.6534\n",
      "Epoch 7: val_loss did not improve from 0.28192\n",
      "\u001b[1m287/287\u001b[0m \u001b[32m━━━━━━━━━━━━━━━━━━━━\u001b[0m\u001b[37m\u001b[0m \u001b[1m304s\u001b[0m 1s/step - acc: 0.8736 - loss: 0.6538 - val_acc: 0.9594 - val_loss: 0.4829\n",
      "Epoch 8/30\n",
      "\u001b[1m  1/287\u001b[0m \u001b[37m━━━━━━━━━━━━━━━━━━━━\u001b[0m \u001b[1m4:15\u001b[0m 895ms/step - acc: 0.9062 - loss: 0.5932\n",
      "Epoch 8: val_loss did not improve from 0.28192\n",
      "\u001b[1m287/287\u001b[0m \u001b[32m━━━━━━━━━━━━━━━━━━━━\u001b[0m\u001b[37m\u001b[0m \u001b[1m1s\u001b[0m 797us/step - acc: 0.9062 - loss: 0.5932 - val_acc: 0.3750 - val_loss: 23.5223\n",
      "Epoch 9/30\n",
      "\u001b[1m287/287\u001b[0m \u001b[32m━━━━━━━━━━━━━━━━━━━━\u001b[0m\u001b[37m\u001b[0m \u001b[1m0s\u001b[0m 1s/step - acc: 0.8700 - loss: 0.8019\n",
      "Epoch 9: val_loss improved from 0.28192 to 0.27217, saving model to ../../models\\cnn_data_augmentation_model.keras\n",
      "\u001b[1m287/287\u001b[0m \u001b[32m━━━━━━━━━━━━━━━━━━━━\u001b[0m\u001b[37m\u001b[0m \u001b[1m303s\u001b[0m 1s/step - acc: 0.8700 - loss: 0.8014 - val_acc: 0.9250 - val_loss: 0.2722\n",
      "Epoch 10/30\n",
      "\u001b[1m  1/287\u001b[0m \u001b[37m━━━━━━━━━━━━━━━━━━━━\u001b[0m \u001b[1m4:13\u001b[0m 888ms/step - acc: 0.9062 - loss: 0.1742\n",
      "Epoch 10: val_loss did not improve from 0.27217\n",
      "\u001b[1m287/287\u001b[0m \u001b[32m━━━━━━━━━━━━━━━━━━━━\u001b[0m\u001b[37m\u001b[0m \u001b[1m3s\u001b[0m 6ms/step - acc: 0.9062 - loss: 0.1742 - val_acc: 0.8500 - val_loss: 0.8867\n",
      "Epoch 11/30\n",
      "\u001b[1m287/287\u001b[0m \u001b[32m━━━━━━━━━━━━━━━━━━━━\u001b[0m\u001b[37m\u001b[0m \u001b[1m0s\u001b[0m 1s/step - acc: 0.8842 - loss: 1.0587\n",
      "Epoch 11: val_loss improved from 0.27217 to 0.26950, saving model to ../../models\\cnn_data_augmentation_model.keras\n",
      "\u001b[1m287/287\u001b[0m \u001b[32m━━━━━━━━━━━━━━━━━━━━\u001b[0m\u001b[37m\u001b[0m \u001b[1m304s\u001b[0m 1s/step - acc: 0.8842 - loss: 1.0574 - val_acc: 0.9750 - val_loss: 0.2695\n",
      "Epoch 12/30\n",
      "\u001b[1m  1/287\u001b[0m \u001b[37m━━━━━━━━━━━━━━━━━━━━\u001b[0m \u001b[1m4:04\u001b[0m 856ms/step - acc: 0.8750 - loss: 0.2392\n",
      "Epoch 12: val_loss did not improve from 0.26950\n",
      "\u001b[1m287/287\u001b[0m \u001b[32m━━━━━━━━━━━━━━━━━━━━\u001b[0m\u001b[37m\u001b[0m \u001b[1m1s\u001b[0m 803us/step - acc: 0.8750 - loss: 0.2392 - val_acc: 0.3750 - val_loss: 2.2352\n",
      "Epoch 13/30\n",
      "\u001b[1m287/287\u001b[0m \u001b[32m━━━━━━━━━━━━━━━━━━━━\u001b[0m\u001b[37m\u001b[0m \u001b[1m0s\u001b[0m 1s/step - acc: 0.8794 - loss: 0.7218\n",
      "Epoch 13: val_loss improved from 0.26950 to 0.12659, saving model to ../../models\\cnn_data_augmentation_model.keras\n",
      "\u001b[1m287/287\u001b[0m \u001b[32m━━━━━━━━━━━━━━━━━━━━\u001b[0m\u001b[37m\u001b[0m \u001b[1m304s\u001b[0m 1s/step - acc: 0.8794 - loss: 0.7212 - val_acc: 0.9563 - val_loss: 0.1266\n",
      "Epoch 14/30\n",
      "\u001b[1m  1/287\u001b[0m \u001b[37m━━━━━━━━━━━━━━━━━━━━\u001b[0m \u001b[1m4:04\u001b[0m 856ms/step - acc: 0.8750 - loss: 0.2292\n",
      "Epoch 14: val_loss did not improve from 0.12659\n",
      "\u001b[1m287/287\u001b[0m \u001b[32m━━━━━━━━━━━━━━━━━━━━\u001b[0m\u001b[37m\u001b[0m \u001b[1m3s\u001b[0m 6ms/step - acc: 0.8750 - loss: 0.2292 - val_acc: 0.8625 - val_loss: 0.4462\n",
      "Epoch 15/30\n",
      "\u001b[1m287/287\u001b[0m \u001b[32m━━━━━━━━━━━━━━━━━━━━\u001b[0m\u001b[37m\u001b[0m \u001b[1m0s\u001b[0m 1s/step - acc: 0.8913 - loss: 0.5669\n",
      "Epoch 15: val_loss did not improve from 0.12659\n",
      "\u001b[1m287/287\u001b[0m \u001b[32m━━━━━━━━━━━━━━━━━━━━\u001b[0m\u001b[37m\u001b[0m \u001b[1m302s\u001b[0m 1s/step - acc: 0.8913 - loss: 0.5670 - val_acc: 0.8469 - val_loss: 0.3972\n",
      "Epoch 16/30\n",
      "\u001b[1m  1/287\u001b[0m \u001b[37m━━━━━━━━━━━━━━━━━━━━\u001b[0m \u001b[1m4:13\u001b[0m 885ms/step - acc: 0.8438 - loss: 0.2298\n",
      "Epoch 16: val_loss did not improve from 0.12659\n",
      "\u001b[1m287/287\u001b[0m \u001b[32m━━━━━━━━━━━━━━━━━━━━\u001b[0m\u001b[37m\u001b[0m \u001b[1m1s\u001b[0m 789us/step - acc: 0.8438 - loss: 0.2298 - val_acc: 0.1250 - val_loss: 3.9661\n",
      "Epoch 17/30\n",
      "\u001b[1m287/287\u001b[0m \u001b[32m━━━━━━━━━━━━━━━━━━━━\u001b[0m\u001b[37m\u001b[0m \u001b[1m0s\u001b[0m 1s/step - acc: 0.8794 - loss: 0.4344\n",
      "Epoch 17: val_loss did not improve from 0.12659\n",
      "\u001b[1m287/287\u001b[0m \u001b[32m━━━━━━━━━━━━━━━━━━━━\u001b[0m\u001b[37m\u001b[0m \u001b[1m302s\u001b[0m 1s/step - acc: 0.8794 - loss: 0.4344 - val_acc: 0.9375 - val_loss: 0.1847\n",
      "Epoch 17: early stopping\n"
     ]
    }
   ],
   "source": [
    "# Path de los modelos\n",
    "models_dir = \"../../models\"\n",
    "# Definir el path para almacenar el modelo\n",
    "model_path = os.path.join(models_dir, \"cnn_data_augmentation_model.keras\")\n",
    "\n",
    "# Definición del EarlyStopping y ModelCheckpoint\n",
    "early_stopping = EarlyStopping(\n",
    "    monitor ='val_loss', # Parar el entrenamiento cuando la función de pérdida de validación no disminuya\n",
    "    mode = 'min', # Minimizar la función de pérdida\n",
    "    patience = 4, # Número de épocas sin mejora después de las cuales el entrenamiento se detendrá\n",
    "    verbose = 1 # Mostrar mensaje\n",
    ")\n",
    "\n",
    "model_checkpoint = ModelCheckpoint(\n",
    "    filepath = model_path, # Ruta para guardar el modelo\n",
    "    monitor = 'val_loss', # Parar el entrenamiento cuando la función de pérdida de validación no disminuya\n",
    "    mode = 'min', # Minimizar la función de pérdida\n",
    "    save_best_only = True, # Guardar el mejor modelo\n",
    "    verbose = 1 # Mostrar mensaje\n",
    ")\n",
    "\n",
    "# Entrenamiento del modelo\n",
    "history = model.fit(\n",
    "    train_generator, \n",
    "    steps_per_epoch=num_batches_per_epoch, # Número de pasos por época\n",
    "    epochs=30, # Número de épocas de entrenamiento\n",
    "    validation_data=test_generator,\n",
    "    validation_steps=10, # Número de pasos por época de validación \n",
    "    callbacks=[early_stopping, model_checkpoint] # Callbacks (EarlyStopping y ModelCheckpoint)\n",
    ")\n",
    "\n",
    "# Guardamos el objeto history en un archivo \n",
    "history_path = os.path.join(models_dir, \"cnn_data_augmentation_model_history.pkl\")\n",
    "with open(history_path, \"wb\") as file:\n",
    "    pickle.dump(history.history, file)"
   ]
  },
  {
   "cell_type": "markdown",
   "metadata": {},
   "source": [
    "Guardamos ahora el mejor modelo encontrado durante el entrenamiento:"
   ]
  },
  {
   "cell_type": "code",
   "execution_count": 21,
   "metadata": {},
   "outputs": [],
   "source": [
    "dropout_model = load_model(model_path)"
   ]
  },
  {
   "cell_type": "markdown",
   "metadata": {},
   "source": [
    "<div style=\"padding: 5px;\">\n",
    "    <h2 style=\"color: #1e355f; font-weight: bold;\">Validación:</h2>\n",
    "</div>"
   ]
  },
  {
   "cell_type": "markdown",
   "metadata": {},
   "source": [
    "Vamos graficar la pérdida (*loss*) y la precisión (*accuracy*) de los conjuntos de entrenamiento y validación mostrando su evolucionado durante el proceso de entrenamiento."
   ]
  },
  {
   "cell_type": "code",
   "execution_count": 22,
   "metadata": {},
   "outputs": [
    {
     "data": {
      "image/png": "[encoded data removed]",
      "text/plain": [
       "<Figure size 1000x500 with 2 Axes>"
      ]
     },
     "metadata": {},
     "output_type": "display_data"
    }
   ],
   "source": [
    "# Formatear el history para visualizarlo\n",
    "formatted_history = prepare_history_data(history)\n",
    "# Llamar a la función de plot\n",
    "plot_training(formatted_history)"
   ]
  },
  {
   "cell_type": "markdown",
   "metadata": {},
   "source": [
    "En los gráficos obtenidos se siguen mostrando resultados un poco inusuales que pueden indicar, igual que en casos anteriores, varios fenómenos subyacentes en el proceso de aprendizaje de tu red neuronal. En relación al entrenamiento sí se ve que se haya reducido levemente el overfitting al presentar una evolución de accuracy menos variante y alrededor del 90%. Además, se observa como el loss disminuye de la manera esperada. Sin embargo, respecto a la validación, se sigue observando un comportamiento inestable en la pérdida de validación y precisión a lo largo del entrenamiento, a pesar de haber implementado técnicas de regularización como el dropout y la normalización por lotes, además de la ampliación de datos (data augmentation). En este sentido, pese a las técnicas aplicadas los picos pronunciados en las gráficas de validación sugieren que el modelo sigue experimentando dificultades para generalizar sobre datos nuevos. Esto puede ser indicativo de un sobreajuste temporal a ciertos aspectos de los datos de entrenamiento que no representan bien el conjunto de validación. Además, el hecho de que la  precisión de validación también muestre una gran variabilidad, alternando entre mejorar significativamente y luego caer abruptamente  puede deberse a la falta de datos representativos en el conjunto de entrenamiento o a la posible alta complejidad del modelo frente a la diversidad de los datos.\n",
    "\n",
    "Por ello, seguimos en la situación de que aunque la pérdida de entrenamiento disminuye de manera más estable y la precisión de entrenamiento parece ser alta, la falta de correspondencia con la validación resalta problemas potenciales de generalización. Si no se observaran dichos picos y se suavizaran las gráficas de validación, sí que podríamos afirmar que la precisión de validación alcanzaría  más o menos el mismo valor que la precisión de entrenamiento en la cuarta época, y desde entonces ha ido aumentando al mismo ritmo que la precisión de entrenamiento, lo que significa que el modelo no se ha sobreajustado demasiado y sería capaz de generalizar mejor.\n",
    "\n",
    "Dado la obtención de estos resultados inusales en el conjunto de validación y las conclusiones obtenidas, parece que el modelo sigue sin conseguir generalizar de la manera esperada debido a una posible existencia de datos no representativos o la posible alta complejidad del modelo, por lo que tras aplicar varias técnicas sin ver resultado se decide probar modelos pre-entrenados con el objetivo de determinar si los resultados mejoran y es efectivamente algo relacionado con el modelo base implementado."
   ]
  }
 ],
 "metadata": {
  "kernelspec": {
   "display_name": "ML2-DL",
   "language": "python",
   "name": "python3"
  },
  "language_info": {
   "codemirror_mode": {
    "name": "ipython",
    "version": 3
   },
   "file_extension": ".py",
   "mimetype": "text/x-python",
   "name": "python",
   "nbconvert_exporter": "python",
   "pygments_lexer": "ipython3",
   "version": "3.10.14"
  }
 },
 "nbformat": 4,
 "nbformat_minor": 2
}
