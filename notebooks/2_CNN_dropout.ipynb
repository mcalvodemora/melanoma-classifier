{
 "cells": [
  {
   "cell_type": "markdown",
   "metadata": {},
   "source": [
    "<div style=\"display: flex; align-items: center; justify-content: space-between; background-color: #1e355f; padding: 30px;\">\n",
    "    <div>\n",
    "        <h1 style=\"color: white; text-align: center; font-weight: bold;\">Datos No Estructurados: IMAGEN</h1>\n",
    "        <h2 style=\"color: white; text-align: center;\">Clasificador de Melanoma</h2>\n",
    "    </div>\n",
    "\n",
    "</div>"
   ]
  },
  {
   "cell_type": "markdown",
   "metadata": {},
   "source": [
    "<div style=\"padding: 5px;\">\n",
    "    <h3 style=\"color: #1e355f; font-weight: bold;\">Realizado por:</h3>\n",
    "</div>\n",
    "\n",
    "- Álvaro Ezquerro Pérez\n",
    "- María Calvo de Mora Román\n",
    "- Celia Quiles Alemañ\n"
   ]
  },
  {
   "cell_type": "code",
   "execution_count": 23,
   "metadata": {},
   "outputs": [],
   "source": [
    "import os\n",
    "import sys\n",
    "import matplotlib.pyplot as plt\n",
    "import seaborn as sns\n",
    "import pandas as pd\n",
    "import scipy\n",
    "import pickle\n",
    "import tensorflow.keras as keras\n",
    "from tensorflow.keras import optimizers\n",
    "from tensorflow.keras import models, layers\n",
    "from tensorflow.keras.preprocessing import image\n",
    "from tensorflow.keras.preprocessing.image import ImageDataGenerator\n",
    "from tensorflow.keras.models import load_model\n",
    "from tensorflow.keras.callbacks import EarlyStopping, ModelCheckpoint\n",
    "\n",
    "# Own modules\n",
    "notebook_path = os.getcwd()\n",
    "if notebook_path not in sys.path:\n",
    "    sys.path.append(notebook_path)\n",
    "project_path = os.path.dirname(notebook_path)\n",
    "if project_path not in sys.path:\n",
    "    sys.path.append(project_path)\n",
    "from utils.helpers import *"
   ]
  },
  {
   "cell_type": "markdown",
   "metadata": {},
   "source": [
    "<div style=\"display: flex; align-items: center; justify-content: space-between; background-color: #1e355f; padding: 10px;\">\n",
    "    <div>\n",
    "        <h1 style=\"color: white; text-align: center; font-weight: bold;\">Modelo Base con dropout</h1>\n",
    "    </div>\n",
    "</div>\n"
   ]
  },
  {
   "cell_type": "markdown",
   "metadata": {},
   "source": [
    "<div style=\"padding: 5px;\">\n",
    "    <h2 style=\"color: #1e355f; font-weight: bold;\">Descripción y Objetivos:</h2>\n",
    "</div>"
   ]
  },
  {
   "cell_type": "markdown",
   "metadata": {},
   "source": [
    "Nuestro próximo objetivo es optimizar el modelo base para poder comprobar si los resultados obtenidos en el anterior notebook sobre el modelo base resultaban ser algo circunstancial o si verdaderamente el sobreajuste no existe y la tendencia abrupta de las métricas de validación permanece. Para ello, comenzaremos por aumentar la complejidad del modelo base (es decir, añadiendo más capas), así como incorporando técnicas de regularización para prevenir el sobreajuste al conjunto de entrenamiento.\n",
    "\n",
    "En este cuaderno exploraremos el poder del método de abandono (dropout) para regularizar el sobreajuste a los datos. Comenzaremos construyendo una arquitectura similar a la que usó el modelo base, reutilizando los pesos del modelo previamente entrenado.\n",
    "\n",
    "Definiremos  una tasa de abandono del 0.5 después de la última capa completamente conectada. Dado que en nuestro caso no había un indicio claro de sobreajuste, usar una penalización más alta probablemente obstaculizará el proceso de entrenamiento y finalmente causará que el modelo alcance los criterios de detención temprana antes de converger."
   ]
  },
  {
   "cell_type": "markdown",
   "metadata": {},
   "source": [
    "<div style=\"padding: 5px;\">\n",
    "    <h2 style=\"color: #1e355f; font-weight: bold;\">Introducción:</h2>\n",
    "</div>"
   ]
  },
  {
   "cell_type": "markdown",
   "metadata": {},
   "source": [
    "El *dropout* es una técnica de regularización utilizada para evitar el sobreajuste durante el proceso de entrenamiento, en la cual se seleccionan aleatoriamente algunas neuronas de la red neuronal convolucional (CNN) y sus salidas se ignoran durante el entrenamiento (*Figura 1*). El porcentaje de neuronas que se omiten depende de una cierta probabilidad, que podemos establecer al construir el modelo. Este descarte aleatorio de neuronas obliga al modelo a buscar soluciones más robustas aprendiendo múltiples características independientes, ya que no puede depender siempre de la presencia de todas las neuronas para extraer características de la imagen.\n",
    "\n",
    "Cuando se aplica la CNN a un problema de inferencia, se utilizan todas las neuronas, pero sus salidas se reducen en la misma proporción que la probabilidad de abandono utilizada durante el entrenamiento para asegurar que el valor esperado de cada neurona sea consistente con el proceso de entrenamiento."
   ]
  },
  {
   "cell_type": "markdown",
   "metadata": {},
   "source": [
    "<div style=\"text-align: center;\"> \n",
    "    <img src=\"..\\..\\imgs\\dropout.png\" width=\"500\" height=\"300\">\n",
    "    <p style=\"font-style: italic;\">Parámetro de regularización dropout en CNN.</p>\n",
    "    <p style=\"font-size: small;\">Fuente: <a href=\"https://dotnettutorials.net/lesson/dropout-layer-in-cnn/\">Dropout layer in CNN. Recuperado de [https://dotnettutorials.net/lesson/dropout-layer-in-cnn/]</a></p>\n",
    "</div>"
   ]
  },
  {
   "cell_type": "markdown",
   "metadata": {},
   "source": [
    "<div style=\"padding: 5px;\">\n",
    "    <h2 style=\"color: #1e355f; font-weight: bold;\">Preparación y carga de datos:</h2>\n",
    "</div>"
   ]
  },
  {
   "cell_type": "markdown",
   "metadata": {},
   "source": [
    "En primer lugar, y al igual que en el anterior notebook `1_CNN_base.ipynb`, vamos a ver cuántas imágenes hay para cada clase en el dataset de entrenamiento y prueba:"
   ]
  },
  {
   "cell_type": "code",
   "execution_count": 2,
   "metadata": {},
   "outputs": [],
   "source": [
    "# Carpeta base\n",
    "base_dir = \"../../data\"\n",
    "# Carpeta de entrenamiento\n",
    "train_dir = os.path.join(base_dir, \"train\")\n",
    "# Carpeta de test\n",
    "test_dir = os.path.join(base_dir, \"test\")\n",
    "\n",
    "# Obtén la información de cada conjunto\n",
    "num_classes_train, images_train = get_num_classes_images(train_dir)\n",
    "num_classes_test, images_test = get_num_classes_images(test_dir)"
   ]
  },
  {
   "cell_type": "code",
   "execution_count": 3,
   "metadata": {},
   "outputs": [
    {
     "name": "stdout",
     "output_type": "stream",
     "text": [
      "Number of classes: 2\n",
      "Existing classes: ['benign', 'malignant']\n",
      "\n",
      "----------------------------------------\n",
      "Number of images per class and dataset:\n",
      "----------------------------------------\n",
      "           Train  Test\n",
      "benign      4605   500\n",
      "malignant   4605   500\n"
     ]
    }
   ],
   "source": [
    "# Crear DataFrame\n",
    "data = {\n",
    "    \"Train\": [images_train.get(cls, 0) for cls in images_train],\n",
    "    \"Test\": [images_test.get(cls, 0) for cls in images_train]\n",
    "}\n",
    "df = pd.DataFrame(data, index=images_train.keys())\n",
    "\n",
    "# Mostrar información general de clases\n",
    "print(f\"Number of classes: {num_classes_train}\")\n",
    "print(f\"Existing classes: {list(images_train.keys())}\\n\")\n",
    "\n",
    "print(\"----------------------------------------\")\n",
    "print(\"Number of images per class and dataset:\")\n",
    "print(\"----------------------------------------\")\n",
    "print(df)"
   ]
  },
  {
   "cell_type": "markdown",
   "metadata": {},
   "source": [
    "Como era de esperar, de nuevo se observa nuestro dataset splitteado en train y test conteniendo las clases bien balanceados y con una buena cantidad de datos para el entrenamiento y la validación."
   ]
  },
  {
   "cell_type": "markdown",
   "metadata": {},
   "source": [
    "<div style=\"padding: 5px;\">\n",
    "    <h2 style=\"color: #1e355f; font-weight: bold;\">Preprocesamiento de los datos:</h2>\n",
    "</div>"
   ]
  },
  {
   "cell_type": "markdown",
   "metadata": {},
   "source": [
    "De igual manera que en el notebook `1_CNN_base.ipynb`, los pasos necesarios en el preprocesado de los datos para entrenar el modelo resultan cruciales y se corresponden exactamente a los vistos en dicho notebook:"
   ]
  },
  {
   "cell_type": "code",
   "execution_count": 4,
   "metadata": {},
   "outputs": [],
   "source": [
    "# Parámetros\n",
    "batch_size = 32 # Tamaño del lote (se establece a 32 porque si no, se alcanza la memoria máxima)\n",
    "input_shape = (300, 300, 3)"
   ]
  },
  {
   "cell_type": "code",
   "execution_count": 5,
   "metadata": {},
   "outputs": [],
   "source": [
    "## Inicializar generador de imágenes\n",
    "# Para el conjunto de entrenamiento\n",
    "train_datagen = ImageDataGenerator(\n",
    "    rescale=1./255, # Normalizar los valores de todos los píxeles\n",
    ")\n",
    "# Para el conjunto de test\n",
    "test_datagen = ImageDataGenerator(\n",
    "    rescale=1./255, # Normalizar los valores de todos los píxeles\n",
    ")"
   ]
  },
  {
   "cell_type": "code",
   "execution_count": 6,
   "metadata": {},
   "outputs": [
    {
     "name": "stdout",
     "output_type": "stream",
     "text": [
      "Found 9210 images belonging to 2 classes.\n",
      "Found 1000 images belonging to 2 classes.\n"
     ]
    }
   ],
   "source": [
    "# Creación del generador de entrenamiento\n",
    "train_generator = train_datagen.flow_from_directory(\n",
    "    train_dir, # Directorio de entrenamiento\n",
    "    target_size=(input_shape[0], input_shape[1]), # Tamaño de las imágenes\n",
    "    batch_size=batch_size, # Tamaño del batch\n",
    "    class_mode='categorical', # Tipo de problema\n",
    "    shuffle=True # Mezclar las imágenes (batches con variedad aleatoria)\n",
    ")\n",
    "\n",
    "# Creación del generador de test\n",
    "test_generator = test_datagen.flow_from_directory(\n",
    "    test_dir, # Directorio de test\n",
    "    target_size=(input_shape[0], input_shape[1]), # Tamaño de las imágenes\n",
    "    batch_size=batch_size, # Tamaño del batch\n",
    "    class_mode='categorical', # Tipo de problema\n",
    "    shuffle=False # No es necesario mezclar las imágenes (típico en test para mantener un orden consistente)\n",
    ")"
   ]
  },
  {
   "cell_type": "markdown",
   "metadata": {},
   "source": [
    "De nuevo, una vez configurados los generadores de imágenes para los conjuntos de entrenamiento y de test, vamos a verificar que las dimensiones de los lotes de datos (`data_batch`) y de las etiquetas (`labels_batch`) sean las esperadas:"
   ]
  },
  {
   "cell_type": "code",
   "execution_count": 7,
   "metadata": {},
   "outputs": [
    {
     "name": "stdout",
     "output_type": "stream",
     "text": [
      "Tamano del batch: (32, 300, 300, 3)\n",
      "Tamano de las etiquetas: (32, 2)\n"
     ]
    }
   ],
   "source": [
    "for data_batch, labels_batch in train_generator:\n",
    "    print('Tamano del batch:', data_batch.shape)\n",
    "    print('Tamano de las etiquetas:', labels_batch.shape)\n",
    "    break"
   ]
  },
  {
   "cell_type": "markdown",
   "metadata": {},
   "source": [
    "Vemos como efectivamente, los resultados son coherentes con lo que hemos definido. Se muestra como cada lote contiene 32 imágenes, y cada imagen tiene dimensiones de 300x300 píxeles con 3 canales (RGB), porque estamos trabajando con imágenes a color. Además, vemos como cada lote contiene 32 etiquetas correspondientes a las 32 imágenes. Cada etiqueta está codificada en formato de dos clases (benigno, maligno)\n"
   ]
  },
  {
   "cell_type": "markdown",
   "metadata": {},
   "source": [
    "<div style=\"padding: 5px;\">\n",
    "    <h2 style=\"color: #1e355f; font-weight: bold;\">Estructura del modelo:</h2>\n",
    "</div>"
   ]
  },
  {
   "cell_type": "markdown",
   "metadata": {},
   "source": [
    "Vamos ahora a crear la estrcutura del modelo de igual manera que antes, con la única diferencia de que añadiremos una única capa de *dropout* en la parte clasificadora de la red, que es la que suele converger más rápido y, por ende, necesita más esfuerzos de regularización "
   ]
  },
  {
   "cell_type": "code",
   "execution_count": 8,
   "metadata": {},
   "outputs": [
    {
     "name": "stdout",
     "output_type": "stream",
     "text": [
      "Tamano del conjunto de entrenamiento: 9210\n",
      "Numero de batches por epoca: 287\n"
     ]
    }
   ],
   "source": [
    "# Definición de hiperparámetros\n",
    "training_size = sum([len(files) for r, d, files in os.walk(train_dir)])\n",
    "num_batches_per_epoch = training_size // batch_size\n",
    "print(f\"Tamano del conjunto de entrenamiento: {training_size}\")\n",
    "print(f\"Numero de batches por epoca: {num_batches_per_epoch}\")"
   ]
  },
  {
   "cell_type": "code",
   "execution_count": 9,
   "metadata": {},
   "outputs": [
    {
     "name": "stderr",
     "output_type": "stream",
     "text": [
      "c:\\Users\\mcalv\\anaconda3\\envs\\ML2-DL\\lib\\site-packages\\keras\\src\\layers\\convolutional\\base_conv.py:107: UserWarning: Do not pass an `input_shape`/`input_dim` argument to a layer. When using Sequential models, prefer using an `Input(shape)` object as the first layer in the model instead.\n",
      "  super().__init__(activity_regularizer=activity_regularizer, **kwargs)\n"
     ]
    }
   ],
   "source": [
    "# Definición de la red\n",
    "model = models.Sequential()\n",
    "# Primera capa convolucional\n",
    "model.add(layers.Conv2D(32, (3, 3), activation='relu',\n",
    "                        input_shape=input_shape\n",
    "                        )\n",
    ")\n",
    "# Primera capa de pooling\n",
    "model.add(layers.MaxPooling2D((2, 2)))\n",
    "# Tercera capa convolucional\n",
    "model.add(layers.Conv2D(64, \n",
    "                        (3, 3), \n",
    "                        activation='relu'\n",
    "                        )\n",
    ")\n",
    "# Tercera capa de pooling\n",
    "model.add(layers.MaxPooling2D((2, 2)))\n",
    "# Cuarta capa convolucional\n",
    "model.add(layers.Conv2D(128, \n",
    "                        (3, 3), \n",
    "                        activation='relu'\n",
    "                        )\n",
    ")\n",
    "# Cuarta capa de pooling\n",
    "model.add(layers.MaxPooling2D((2, 2)))\n",
    "\n",
    "# Capa de aplanamiento\n",
    "model.add(layers.Flatten())\n",
    "# Capa densa\n",
    "model.add(layers.Dense(512, activation='relu'))\n",
    "# Capa de dropout\n",
    "model.add(layers.Dropout(0.5))\n",
    "# Capa de salida\n",
    "model.add(layers.Dense(2, activation='softmax'))"
   ]
  },
  {
   "cell_type": "markdown",
   "metadata": {},
   "source": [
    "Una vez definida la estructura, vamos a comprobar cuántos parametros tiene con el objetivo de hacernos una idea de la complejidad y flexibilidad del modelo:"
   ]
  },
  {
   "cell_type": "code",
   "execution_count": 10,
   "metadata": {},
   "outputs": [
    {
     "data": {
      "text/html": [
       "<pre style=\"white-space:pre;overflow-x:auto;line-height:normal;font-family:Menlo,'DejaVu Sans Mono',consolas,'Courier New',monospace\"><span style=\"font-weight: bold\">Model: \"sequential\"</span>\n",
       "</pre>\n"
      ],
      "text/plain": [
       "\u001b[1mModel: \"sequential\"\u001b[0m\n"
      ]
     },
     "metadata": {},
     "output_type": "display_data"
    },
    {
     "data": {
      "text/html": [
       "<pre style=\"white-space:pre;overflow-x:auto;line-height:normal;font-family:Menlo,'DejaVu Sans Mono',consolas,'Courier New',monospace\">┏━━━━━━━━━━━━━━━━━━━━━━━━━━━━━━━━━┳━━━━━━━━━━━━━━━━━━━━━━━━┳━━━━━━━━━━━━━━━┓\n",
       "┃<span style=\"font-weight: bold\"> Layer (type)                    </span>┃<span style=\"font-weight: bold\"> Output Shape           </span>┃<span style=\"font-weight: bold\">       Param # </span>┃\n",
       "┡━━━━━━━━━━━━━━━━━━━━━━━━━━━━━━━━━╇━━━━━━━━━━━━━━━━━━━━━━━━╇━━━━━━━━━━━━━━━┩\n",
       "│ conv2d (<span style=\"color: #0087ff; text-decoration-color: #0087ff\">Conv2D</span>)                 │ (<span style=\"color: #00d7ff; text-decoration-color: #00d7ff\">None</span>, <span style=\"color: #00af00; text-decoration-color: #00af00\">298</span>, <span style=\"color: #00af00; text-decoration-color: #00af00\">298</span>, <span style=\"color: #00af00; text-decoration-color: #00af00\">32</span>)   │           <span style=\"color: #00af00; text-decoration-color: #00af00\">896</span> │\n",
       "├─────────────────────────────────┼────────────────────────┼───────────────┤\n",
       "│ max_pooling2d (<span style=\"color: #0087ff; text-decoration-color: #0087ff\">MaxPooling2D</span>)    │ (<span style=\"color: #00d7ff; text-decoration-color: #00d7ff\">None</span>, <span style=\"color: #00af00; text-decoration-color: #00af00\">149</span>, <span style=\"color: #00af00; text-decoration-color: #00af00\">149</span>, <span style=\"color: #00af00; text-decoration-color: #00af00\">32</span>)   │             <span style=\"color: #00af00; text-decoration-color: #00af00\">0</span> │\n",
       "├─────────────────────────────────┼────────────────────────┼───────────────┤\n",
       "│ conv2d_1 (<span style=\"color: #0087ff; text-decoration-color: #0087ff\">Conv2D</span>)               │ (<span style=\"color: #00d7ff; text-decoration-color: #00d7ff\">None</span>, <span style=\"color: #00af00; text-decoration-color: #00af00\">147</span>, <span style=\"color: #00af00; text-decoration-color: #00af00\">147</span>, <span style=\"color: #00af00; text-decoration-color: #00af00\">64</span>)   │        <span style=\"color: #00af00; text-decoration-color: #00af00\">18,496</span> │\n",
       "├─────────────────────────────────┼────────────────────────┼───────────────┤\n",
       "│ max_pooling2d_1 (<span style=\"color: #0087ff; text-decoration-color: #0087ff\">MaxPooling2D</span>)  │ (<span style=\"color: #00d7ff; text-decoration-color: #00d7ff\">None</span>, <span style=\"color: #00af00; text-decoration-color: #00af00\">73</span>, <span style=\"color: #00af00; text-decoration-color: #00af00\">73</span>, <span style=\"color: #00af00; text-decoration-color: #00af00\">64</span>)     │             <span style=\"color: #00af00; text-decoration-color: #00af00\">0</span> │\n",
       "├─────────────────────────────────┼────────────────────────┼───────────────┤\n",
       "│ conv2d_2 (<span style=\"color: #0087ff; text-decoration-color: #0087ff\">Conv2D</span>)               │ (<span style=\"color: #00d7ff; text-decoration-color: #00d7ff\">None</span>, <span style=\"color: #00af00; text-decoration-color: #00af00\">71</span>, <span style=\"color: #00af00; text-decoration-color: #00af00\">71</span>, <span style=\"color: #00af00; text-decoration-color: #00af00\">128</span>)    │        <span style=\"color: #00af00; text-decoration-color: #00af00\">73,856</span> │\n",
       "├─────────────────────────────────┼────────────────────────┼───────────────┤\n",
       "│ max_pooling2d_2 (<span style=\"color: #0087ff; text-decoration-color: #0087ff\">MaxPooling2D</span>)  │ (<span style=\"color: #00d7ff; text-decoration-color: #00d7ff\">None</span>, <span style=\"color: #00af00; text-decoration-color: #00af00\">35</span>, <span style=\"color: #00af00; text-decoration-color: #00af00\">35</span>, <span style=\"color: #00af00; text-decoration-color: #00af00\">128</span>)    │             <span style=\"color: #00af00; text-decoration-color: #00af00\">0</span> │\n",
       "├─────────────────────────────────┼────────────────────────┼───────────────┤\n",
       "│ flatten (<span style=\"color: #0087ff; text-decoration-color: #0087ff\">Flatten</span>)               │ (<span style=\"color: #00d7ff; text-decoration-color: #00d7ff\">None</span>, <span style=\"color: #00af00; text-decoration-color: #00af00\">156800</span>)         │             <span style=\"color: #00af00; text-decoration-color: #00af00\">0</span> │\n",
       "├─────────────────────────────────┼────────────────────────┼───────────────┤\n",
       "│ dense (<span style=\"color: #0087ff; text-decoration-color: #0087ff\">Dense</span>)                   │ (<span style=\"color: #00d7ff; text-decoration-color: #00d7ff\">None</span>, <span style=\"color: #00af00; text-decoration-color: #00af00\">512</span>)            │    <span style=\"color: #00af00; text-decoration-color: #00af00\">80,282,112</span> │\n",
       "├─────────────────────────────────┼────────────────────────┼───────────────┤\n",
       "│ dropout (<span style=\"color: #0087ff; text-decoration-color: #0087ff\">Dropout</span>)               │ (<span style=\"color: #00d7ff; text-decoration-color: #00d7ff\">None</span>, <span style=\"color: #00af00; text-decoration-color: #00af00\">512</span>)            │             <span style=\"color: #00af00; text-decoration-color: #00af00\">0</span> │\n",
       "├─────────────────────────────────┼────────────────────────┼───────────────┤\n",
       "│ dense_1 (<span style=\"color: #0087ff; text-decoration-color: #0087ff\">Dense</span>)                 │ (<span style=\"color: #00d7ff; text-decoration-color: #00d7ff\">None</span>, <span style=\"color: #00af00; text-decoration-color: #00af00\">2</span>)              │         <span style=\"color: #00af00; text-decoration-color: #00af00\">1,026</span> │\n",
       "└─────────────────────────────────┴────────────────────────┴───────────────┘\n",
       "</pre>\n"
      ],
      "text/plain": [
       "┏━━━━━━━━━━━━━━━━━━━━━━━━━━━━━━━━━┳━━━━━━━━━━━━━━━━━━━━━━━━┳━━━━━━━━━━━━━━━┓\n",
       "┃\u001b[1m \u001b[0m\u001b[1mLayer (type)                   \u001b[0m\u001b[1m \u001b[0m┃\u001b[1m \u001b[0m\u001b[1mOutput Shape          \u001b[0m\u001b[1m \u001b[0m┃\u001b[1m \u001b[0m\u001b[1m      Param #\u001b[0m\u001b[1m \u001b[0m┃\n",
       "┡━━━━━━━━━━━━━━━━━━━━━━━━━━━━━━━━━╇━━━━━━━━━━━━━━━━━━━━━━━━╇━━━━━━━━━━━━━━━┩\n",
       "│ conv2d (\u001b[38;5;33mConv2D\u001b[0m)                 │ (\u001b[38;5;45mNone\u001b[0m, \u001b[38;5;34m298\u001b[0m, \u001b[38;5;34m298\u001b[0m, \u001b[38;5;34m32\u001b[0m)   │           \u001b[38;5;34m896\u001b[0m │\n",
       "├─────────────────────────────────┼────────────────────────┼───────────────┤\n",
       "│ max_pooling2d (\u001b[38;5;33mMaxPooling2D\u001b[0m)    │ (\u001b[38;5;45mNone\u001b[0m, \u001b[38;5;34m149\u001b[0m, \u001b[38;5;34m149\u001b[0m, \u001b[38;5;34m32\u001b[0m)   │             \u001b[38;5;34m0\u001b[0m │\n",
       "├─────────────────────────────────┼────────────────────────┼───────────────┤\n",
       "│ conv2d_1 (\u001b[38;5;33mConv2D\u001b[0m)               │ (\u001b[38;5;45mNone\u001b[0m, \u001b[38;5;34m147\u001b[0m, \u001b[38;5;34m147\u001b[0m, \u001b[38;5;34m64\u001b[0m)   │        \u001b[38;5;34m18,496\u001b[0m │\n",
       "├─────────────────────────────────┼────────────────────────┼───────────────┤\n",
       "│ max_pooling2d_1 (\u001b[38;5;33mMaxPooling2D\u001b[0m)  │ (\u001b[38;5;45mNone\u001b[0m, \u001b[38;5;34m73\u001b[0m, \u001b[38;5;34m73\u001b[0m, \u001b[38;5;34m64\u001b[0m)     │             \u001b[38;5;34m0\u001b[0m │\n",
       "├─────────────────────────────────┼────────────────────────┼───────────────┤\n",
       "│ conv2d_2 (\u001b[38;5;33mConv2D\u001b[0m)               │ (\u001b[38;5;45mNone\u001b[0m, \u001b[38;5;34m71\u001b[0m, \u001b[38;5;34m71\u001b[0m, \u001b[38;5;34m128\u001b[0m)    │        \u001b[38;5;34m73,856\u001b[0m │\n",
       "├─────────────────────────────────┼────────────────────────┼───────────────┤\n",
       "│ max_pooling2d_2 (\u001b[38;5;33mMaxPooling2D\u001b[0m)  │ (\u001b[38;5;45mNone\u001b[0m, \u001b[38;5;34m35\u001b[0m, \u001b[38;5;34m35\u001b[0m, \u001b[38;5;34m128\u001b[0m)    │             \u001b[38;5;34m0\u001b[0m │\n",
       "├─────────────────────────────────┼────────────────────────┼───────────────┤\n",
       "│ flatten (\u001b[38;5;33mFlatten\u001b[0m)               │ (\u001b[38;5;45mNone\u001b[0m, \u001b[38;5;34m156800\u001b[0m)         │             \u001b[38;5;34m0\u001b[0m │\n",
       "├─────────────────────────────────┼────────────────────────┼───────────────┤\n",
       "│ dense (\u001b[38;5;33mDense\u001b[0m)                   │ (\u001b[38;5;45mNone\u001b[0m, \u001b[38;5;34m512\u001b[0m)            │    \u001b[38;5;34m80,282,112\u001b[0m │\n",
       "├─────────────────────────────────┼────────────────────────┼───────────────┤\n",
       "│ dropout (\u001b[38;5;33mDropout\u001b[0m)               │ (\u001b[38;5;45mNone\u001b[0m, \u001b[38;5;34m512\u001b[0m)            │             \u001b[38;5;34m0\u001b[0m │\n",
       "├─────────────────────────────────┼────────────────────────┼───────────────┤\n",
       "│ dense_1 (\u001b[38;5;33mDense\u001b[0m)                 │ (\u001b[38;5;45mNone\u001b[0m, \u001b[38;5;34m2\u001b[0m)              │         \u001b[38;5;34m1,026\u001b[0m │\n",
       "└─────────────────────────────────┴────────────────────────┴───────────────┘\n"
      ]
     },
     "metadata": {},
     "output_type": "display_data"
    },
    {
     "data": {
      "text/html": [
       "<pre style=\"white-space:pre;overflow-x:auto;line-height:normal;font-family:Menlo,'DejaVu Sans Mono',consolas,'Courier New',monospace\"><span style=\"font-weight: bold\"> Total params: </span><span style=\"color: #00af00; text-decoration-color: #00af00\">80,376,386</span> (306.61 MB)\n",
       "</pre>\n"
      ],
      "text/plain": [
       "\u001b[1m Total params: \u001b[0m\u001b[38;5;34m80,376,386\u001b[0m (306.61 MB)\n"
      ]
     },
     "metadata": {},
     "output_type": "display_data"
    },
    {
     "data": {
      "text/html": [
       "<pre style=\"white-space:pre;overflow-x:auto;line-height:normal;font-family:Menlo,'DejaVu Sans Mono',consolas,'Courier New',monospace\"><span style=\"font-weight: bold\"> Trainable params: </span><span style=\"color: #00af00; text-decoration-color: #00af00\">80,376,386</span> (306.61 MB)\n",
       "</pre>\n"
      ],
      "text/plain": [
       "\u001b[1m Trainable params: \u001b[0m\u001b[38;5;34m80,376,386\u001b[0m (306.61 MB)\n"
      ]
     },
     "metadata": {},
     "output_type": "display_data"
    },
    {
     "data": {
      "text/html": [
       "<pre style=\"white-space:pre;overflow-x:auto;line-height:normal;font-family:Menlo,'DejaVu Sans Mono',consolas,'Courier New',monospace\"><span style=\"font-weight: bold\"> Non-trainable params: </span><span style=\"color: #00af00; text-decoration-color: #00af00\">0</span> (0.00 B)\n",
       "</pre>\n"
      ],
      "text/plain": [
       "\u001b[1m Non-trainable params: \u001b[0m\u001b[38;5;34m0\u001b[0m (0.00 B)\n"
      ]
     },
     "metadata": {},
     "output_type": "display_data"
    }
   ],
   "source": [
    "model.summary()"
   ]
  },
  {
   "cell_type": "markdown",
   "metadata": {},
   "source": [
    "Se observa como en total, contamos con aproximadamente un total de 80 millones de parámetros a entrenar en nuestra red. Es decir, el número de parámetros a entrenar no se ha modificado respecto al modelo base aún habiendo añadido la capa de *dropout* a la estrcutura de la red."
   ]
  },
  {
   "cell_type": "markdown",
   "metadata": {},
   "source": [
    "A continuación, se va a especificar cómo se configura y compila el modelo para el entrenamiento. El optimizador elegido es **Adam (Adaptive Moment Estimation)** al igual que en el caso anterior. Además, emplearemos de nuevo un ratio de aprendizaje (*learning rate*) de 0.0001.\n",
    "\n",
    "La configuración de compilación del modelo se realiza de la siguiente manera:"
   ]
  },
  {
   "cell_type": "code",
   "execution_count": 11,
   "metadata": {},
   "outputs": [],
   "source": [
    "model.compile(\n",
    "    loss='categorical_crossentropy',\n",
    "    optimizer=optimizers.Adam(learning_rate=1e-4),\n",
    "    metrics=['acc']\n",
    ")"
   ]
  },
  {
   "cell_type": "markdown",
   "metadata": {},
   "source": [
    "<div style=\"padding: 5px;\">\n",
    "    <h2 style=\"color: #1e355f; font-weight: bold;\">Entrenamiento del modelo:</h2>\n",
    "</div>"
   ]
  },
  {
   "cell_type": "markdown",
   "metadata": {},
   "source": [
    "Una vez completados todos los pasos anteriores, podemos entrenar esta versión modificada del modelo base,a ver si nos reafirma nuestra suposición del modelo base o si efectivamente, no se trata de un hecho circustancial y aún añadiendo regularización se observan los mismos resultados. Es importante mencionar, que de nuevo, continuaremos empleando  `EarlyStopping` para limitar el sobre-entrenamiento, empleando específicamente el validation loss como métrica para parar en caso de que no haya ninguna mejora en el loss después de específicamente 4 épocas con el objetivo de obtener resultados comparables con los del modelo base anterior. Del mismo modo, emplearemos `ModelCheckpoint` para guardar el mejor modelo obtenido durante el entrenamiento. "
   ]
  },
  {
   "cell_type": "code",
   "execution_count": 12,
   "metadata": {},
   "outputs": [
    {
     "name": "stdout",
     "output_type": "stream",
     "text": [
      "Epoch 1/30\n"
     ]
    },
    {
     "name": "stderr",
     "output_type": "stream",
     "text": [
      "c:\\Users\\mcalv\\anaconda3\\envs\\ML2-DL\\lib\\site-packages\\keras\\src\\trainers\\data_adapters\\py_dataset_adapter.py:121: UserWarning: Your `PyDataset` class should call `super().__init__(**kwargs)` in its constructor. `**kwargs` can include `workers`, `use_multiprocessing`, `max_queue_size`. Do not pass these arguments to `fit()`, as they will be ignored.\n",
      "  self._warn_if_super_not_called()\n"
     ]
    },
    {
     "name": "stdout",
     "output_type": "stream",
     "text": [
      "\u001b[1m287/287\u001b[0m \u001b[32m━━━━━━━━━━━━━━━━━━━━\u001b[0m\u001b[37m\u001b[0m \u001b[1m0s\u001b[0m 912ms/step - acc: 0.7128 - loss: 0.5556\n",
      "Epoch 1: val_loss improved from inf to 0.38926, saving model to ../../models\\cnn_dropout_model.keras\n",
      "\u001b[1m287/287\u001b[0m \u001b[32m━━━━━━━━━━━━━━━━━━━━\u001b[0m\u001b[37m\u001b[0m \u001b[1m272s\u001b[0m 934ms/step - acc: 0.7131 - loss: 0.5551 - val_acc: 0.8844 - val_loss: 0.3893\n",
      "Epoch 2/30\n",
      "\u001b[1m  1/287\u001b[0m \u001b[37m━━━━━━━━━━━━━━━━━━━━\u001b[0m \u001b[1m3:30\u001b[0m 737ms/step - acc: 0.8438 - loss: 0.3788"
     ]
    },
    {
     "name": "stderr",
     "output_type": "stream",
     "text": [
      "c:\\Users\\mcalv\\anaconda3\\envs\\ML2-DL\\lib\\contextlib.py:153: UserWarning: Your input ran out of data; interrupting training. Make sure that your dataset or generator can generate at least `steps_per_epoch * epochs` batches. You may need to use the `.repeat()` function when building your dataset.\n",
      "  self.gen.throw(typ, value, traceback)\n"
     ]
    },
    {
     "name": "stdout",
     "output_type": "stream",
     "text": [
      "\n",
      "Epoch 2: val_loss improved from 0.38926 to 0.36795, saving model to ../../models\\cnn_dropout_model.keras\n",
      "\u001b[1m287/287\u001b[0m \u001b[32m━━━━━━━━━━━━━━━━━━━━\u001b[0m\u001b[37m\u001b[0m \u001b[1m6s\u001b[0m 20ms/step - acc: 0.8438 - loss: 0.3788 - val_acc: 0.8406 - val_loss: 0.3680\n",
      "Epoch 3/30\n",
      "\u001b[1m287/287\u001b[0m \u001b[32m━━━━━━━━━━━━━━━━━━━━\u001b[0m\u001b[37m\u001b[0m \u001b[1m0s\u001b[0m 760ms/step - acc: 0.8732 - loss: 0.3058\n",
      "Epoch 3: val_loss improved from 0.36795 to 0.11552, saving model to ../../models\\cnn_dropout_model.keras\n",
      "\u001b[1m287/287\u001b[0m \u001b[32m━━━━━━━━━━━━━━━━━━━━\u001b[0m\u001b[37m\u001b[0m \u001b[1m223s\u001b[0m 778ms/step - acc: 0.8732 - loss: 0.3057 - val_acc: 0.9531 - val_loss: 0.1155\n",
      "Epoch 4/30\n",
      "\u001b[1m  1/287\u001b[0m \u001b[37m━━━━━━━━━━━━━━━━━━━━\u001b[0m \u001b[1m3:22\u001b[0m 707ms/step - acc: 1.0000 - loss: 0.1072\n",
      "Epoch 4: val_loss did not improve from 0.11552\n",
      "\u001b[1m287/287\u001b[0m \u001b[32m━━━━━━━━━━━━━━━━━━━━\u001b[0m\u001b[37m\u001b[0m \u001b[1m1s\u001b[0m 709us/step - acc: 1.0000 - loss: 0.1072 - val_acc: 0.1750 - val_loss: 1.6228\n",
      "Epoch 5/30\n",
      "\u001b[1m287/287\u001b[0m \u001b[32m━━━━━━━━━━━━━━━━━━━━\u001b[0m\u001b[37m\u001b[0m \u001b[1m0s\u001b[0m 760ms/step - acc: 0.8950 - loss: 0.2526\n",
      "Epoch 5: val_loss did not improve from 0.11552\n",
      "\u001b[1m287/287\u001b[0m \u001b[32m━━━━━━━━━━━━━━━━━━━━\u001b[0m\u001b[37m\u001b[0m \u001b[1m220s\u001b[0m 765ms/step - acc: 0.8950 - loss: 0.2527 - val_acc: 0.9094 - val_loss: 0.2410\n",
      "Epoch 6/30\n",
      "\u001b[1m  1/287\u001b[0m \u001b[37m━━━━━━━━━━━━━━━━━━━━\u001b[0m \u001b[1m3:34\u001b[0m 749ms/step - acc: 0.8125 - loss: 0.4354\n",
      "Epoch 6: val_loss did not improve from 0.11552\n",
      "\u001b[1m287/287\u001b[0m \u001b[32m━━━━━━━━━━━━━━━━━━━━\u001b[0m\u001b[37m\u001b[0m \u001b[1m2s\u001b[0m 5ms/step - acc: 0.8125 - loss: 0.4354 - val_acc: 0.8750 - val_loss: 0.3053\n",
      "Epoch 7/30\n",
      "\u001b[1m287/287\u001b[0m \u001b[32m━━━━━━━━━━━━━━━━━━━━\u001b[0m\u001b[37m\u001b[0m \u001b[1m0s\u001b[0m 749ms/step - acc: 0.9026 - loss: 0.2348\n",
      "Epoch 7: val_loss improved from 0.11552 to 0.05204, saving model to ../../models\\cnn_dropout_model.keras\n",
      "\u001b[1m287/287\u001b[0m \u001b[32m━━━━━━━━━━━━━━━━━━━━\u001b[0m\u001b[37m\u001b[0m \u001b[1m219s\u001b[0m 761ms/step - acc: 0.9026 - loss: 0.2348 - val_acc: 0.9812 - val_loss: 0.0520\n",
      "Epoch 8/30\n",
      "\u001b[1m  1/287\u001b[0m \u001b[37m━━━━━━━━━━━━━━━━━━━━\u001b[0m \u001b[1m3:24\u001b[0m 715ms/step - acc: 0.8750 - loss: 0.3070\n",
      "Epoch 8: val_loss did not improve from 0.05204\n",
      "\u001b[1m287/287\u001b[0m \u001b[32m━━━━━━━━━━━━━━━━━━━━\u001b[0m\u001b[37m\u001b[0m \u001b[1m1s\u001b[0m 720us/step - acc: 0.8750 - loss: 0.3070 - val_acc: 0.3750 - val_loss: 1.1012\n",
      "Epoch 9/30\n",
      "\u001b[1m287/287\u001b[0m \u001b[32m━━━━━━━━━━━━━━━━━━━━\u001b[0m\u001b[37m\u001b[0m \u001b[1m0s\u001b[0m 753ms/step - acc: 0.9169 - loss: 0.2058\n",
      "Epoch 9: val_loss did not improve from 0.05204\n",
      "\u001b[1m287/287\u001b[0m \u001b[32m━━━━━━━━━━━━━━━━━━━━\u001b[0m\u001b[37m\u001b[0m \u001b[1m218s\u001b[0m 758ms/step - acc: 0.9169 - loss: 0.2059 - val_acc: 0.8594 - val_loss: 0.3233\n",
      "Epoch 10/30\n",
      "\u001b[1m  1/287\u001b[0m \u001b[37m━━━━━━━━━━━━━━━━━━━━\u001b[0m \u001b[1m3:31\u001b[0m 738ms/step - acc: 0.9062 - loss: 0.1987\n",
      "Epoch 10: val_loss did not improve from 0.05204\n",
      "\u001b[1m287/287\u001b[0m \u001b[32m━━━━━━━━━━━━━━━━━━━━\u001b[0m\u001b[37m\u001b[0m \u001b[1m2s\u001b[0m 5ms/step - acc: 0.9062 - loss: 0.1987 - val_acc: 0.8719 - val_loss: 0.2837\n",
      "Epoch 11/30\n",
      "\u001b[1m287/287\u001b[0m \u001b[32m━━━━━━━━━━━━━━━━━━━━\u001b[0m\u001b[37m\u001b[0m \u001b[1m0s\u001b[0m 747ms/step - acc: 0.9138 - loss: 0.2092\n",
      "Epoch 11: val_loss improved from 0.05204 to 0.01971, saving model to ../../models\\cnn_dropout_model.keras\n",
      "\u001b[1m287/287\u001b[0m \u001b[32m━━━━━━━━━━━━━━━━━━━━\u001b[0m\u001b[37m\u001b[0m \u001b[1m218s\u001b[0m 759ms/step - acc: 0.9138 - loss: 0.2092 - val_acc: 0.9969 - val_loss: 0.0197\n",
      "Epoch 12/30\n",
      "\u001b[1m  1/287\u001b[0m \u001b[37m━━━━━━━━━━━━━━━━━━━━\u001b[0m \u001b[1m3:23\u001b[0m 712ms/step - acc: 0.9375 - loss: 0.1913\n",
      "Epoch 12: val_loss did not improve from 0.01971\n",
      "\u001b[1m287/287\u001b[0m \u001b[32m━━━━━━━━━━━━━━━━━━━━\u001b[0m\u001b[37m\u001b[0m \u001b[1m1s\u001b[0m 731us/step - acc: 0.9375 - loss: 0.1913 - val_acc: 0.5000 - val_loss: 0.8007\n",
      "Epoch 13/30\n",
      "\u001b[1m287/287\u001b[0m \u001b[32m━━━━━━━━━━━━━━━━━━━━\u001b[0m\u001b[37m\u001b[0m \u001b[1m0s\u001b[0m 750ms/step - acc: 0.9203 - loss: 0.1977\n",
      "Epoch 13: val_loss did not improve from 0.01971\n",
      "\u001b[1m287/287\u001b[0m \u001b[32m━━━━━━━━━━━━━━━━━━━━\u001b[0m\u001b[37m\u001b[0m \u001b[1m217s\u001b[0m 756ms/step - acc: 0.9203 - loss: 0.1977 - val_acc: 0.9281 - val_loss: 0.2052\n",
      "Epoch 14/30\n",
      "\u001b[1m  1/287\u001b[0m \u001b[37m━━━━━━━━━━━━━━━━━━━━\u001b[0m \u001b[1m3:29\u001b[0m 734ms/step - acc: 1.0000 - loss: 0.0807\n",
      "Epoch 14: val_loss did not improve from 0.01971\n",
      "\u001b[1m287/287\u001b[0m \u001b[32m━━━━━━━━━━━━━━━━━━━━\u001b[0m\u001b[37m\u001b[0m \u001b[1m2s\u001b[0m 5ms/step - acc: 1.0000 - loss: 0.0807 - val_acc: 0.8781 - val_loss: 0.2870\n",
      "Epoch 15/30\n",
      "\u001b[1m287/287\u001b[0m \u001b[32m━━━━━━━━━━━━━━━━━━━━\u001b[0m\u001b[37m\u001b[0m \u001b[1m0s\u001b[0m 752ms/step - acc: 0.9282 - loss: 0.1774\n",
      "Epoch 15: val_loss did not improve from 0.01971\n",
      "\u001b[1m287/287\u001b[0m \u001b[32m━━━━━━━━━━━━━━━━━━━━\u001b[0m\u001b[37m\u001b[0m \u001b[1m218s\u001b[0m 757ms/step - acc: 0.9282 - loss: 0.1774 - val_acc: 0.9875 - val_loss: 0.0376\n",
      "Epoch 15: early stopping\n"
     ]
    }
   ],
   "source": [
    "# Path de los modelos\n",
    "models_dir = \"../../models\"\n",
    "# Definir el path para almacenar el modelo\n",
    "model_path = os.path.join(models_dir, \"cnn_dropout_model.keras\")\n",
    "\n",
    "# Definición del EarlyStopping y ModelCheckpoint\n",
    "early_stopping = EarlyStopping(\n",
    "    monitor ='val_loss', # Parar el entrenamiento cuando la función de pérdida de validación no disminuya\n",
    "    mode = 'min', # Minimizar la función de pérdida\n",
    "    patience = 4, # Número de épocas sin mejora después de las cuales el entrenamiento se detendrá\n",
    "    verbose = 1 # Mostrar mensaje\n",
    ")\n",
    "\n",
    "model_checkpoint = ModelCheckpoint(\n",
    "    filepath = model_path, # Ruta para guardar el modelo\n",
    "    monitor = 'val_loss', # Parar el entrenamiento cuando la función de pérdida de validación no disminuya\n",
    "    mode = 'min', # Minimizar la función de pérdida\n",
    "    save_best_only = True, # Guardar el mejor modelo\n",
    "    verbose = 1 # Mostrar mensaje\n",
    ")\n",
    "\n",
    "# Entrenamiento del modelo\n",
    "history = model.fit(\n",
    "    train_generator, \n",
    "    steps_per_epoch=num_batches_per_epoch, # Número de pasos por época\n",
    "    epochs=30, # Número de épocas de entrenamiento\n",
    "    validation_data=test_generator,\n",
    "    validation_steps=10, # Número de pasos por época de validación \n",
    "    callbacks=[early_stopping, model_checkpoint] # Callbacks (EarlyStopping y ModelCheckpoint)\n",
    ")"
   ]
  },
  {
   "cell_type": "markdown",
   "metadata": {},
   "source": [
    "Igual que en el modelo base inicial, era de esperar, debido al `EarlyStopping`, que el modelo parase antes de las 30 epochs, concretamente ha parado al llegar a la epoch 15, antes que el modelo base. Esto implica que el loss en validación no ha mejorado significativamente en las últimas 4 epochs."
   ]
  },
  {
   "cell_type": "markdown",
   "metadata": {},
   "source": [
    "Guardamos ahora el mejor modelo encontrado durante el entrenamiento:"
   ]
  },
  {
   "cell_type": "code",
   "execution_count": 13,
   "metadata": {},
   "outputs": [],
   "source": [
    "dropout_model = load_model(model_path)"
   ]
  },
  {
   "cell_type": "markdown",
   "metadata": {},
   "source": [
    "<div style=\"padding: 5px;\">\n",
    "    <h2 style=\"color: #1e355f; font-weight: bold;\">Validación:</h2>\n",
    "</div>"
   ]
  },
  {
   "cell_type": "markdown",
   "metadata": {},
   "source": [
    "Vamos graficar la pérdida (*loss*) y la precisión (*accuracy*) de los conjuntos de entrenamiento y validación mostrando su evolucionado durante el proceso de entrenamiento."
   ]
  },
  {
   "cell_type": "code",
   "execution_count": 26,
   "metadata": {},
   "outputs": [
    {
     "data": {
      "image/png": "[encoded data removed]",
      "text/plain": [
       "<Figure size 1000x500 with 2 Axes>"
      ]
     },
     "metadata": {},
     "output_type": "display_data"
    }
   ],
   "source": [
    "# Formatear el history para visualizarlo\n",
    "formatted_history = prepare_history_data(history)\n",
    "# Llamar a la función de plot\n",
    "plot_training(formatted_history)"
   ]
  },
  {
   "cell_type": "markdown",
   "metadata": {},
   "source": [
    "Con la introducción de la capa de dropout, que se añadió para intentar regularizar el modelo, prevenir el sobreajuste y ver la razón de los picos y valles abruptos, no se observa una diferencia abismal con el modelo base anteriormente entrenado. En este sentido, como la evolución de la función de pérdida de validación prácticamente no se ha suavizado frente al modelo base, si no que sigue presentando el mencionado patrón abrupto de picos y valles. Además, la *accuracy* sigue siendo prácticamente igual a la obtenida tanto en validación como en entrenamiento del modelo base (alrededor del 90%), por lo que no ha resultado en una disminución del leve overfitting oversado en el modelo anterior.\n",
    "\n",
    "Frente a esta igual de resultados respecto al modelo anterior, resulta que el nivel de *dropout* implementado no ha resultado ser suficiente para mejorar los resultados del modelo base. Esto, nos lleva a pensar que estamos enfrentando desafíos inherentes en el entrenamiento de modelos de aprendizaje profundo. En este sentido, el fenómeno observado de los picos pronunciados y la alta variabilidad en las gráficas de validación obtenidas, pueden estar causadas por múltiples fenómenos tales como:\n",
    "- Un tamaño de lote pequeño. Se ha determinado un batch size de 32 debido a la capacidad finita de computación de los equipos empleados, donde un valor mayor de batch size provocaba un error de pérdida de memoria incluso ejecutándolo en la GPU del sistema. Por tanto, en este sentido, al contar con recursos limitados nos es imposible proponer una solución.\n",
    "- Falta de generalización del modelo: Si el modelo está sobreajustado al conjunto de entrenamiento, puede no generalizar bien al conjunto de validación. Esto puede resultar en picos en la gráfica de validación cuando el modelo encuentra ejemplos que no se ajustan bien a las características aprendidas del conjunto de entrenamiento. Para solventar esto, ya se ha provado en el presente notebook la introducción del *dropout*, sin obtener resultados positivos.\n",
    "\n",
    "Frente a estos fenómenos, y con los resultados obtenidos tras la introducción del *dropout* solo nos queda la opción de investigar nuevas políticas de regularización para tratar de suavizar las curvas de validación y aumentar la capacidad de generalización del modelo.\n",
    "\n",
    "\n"
   ]
  }
 ],
 "metadata": {
  "kernelspec": {
   "display_name": "ML2-DL",
   "language": "python",
   "name": "python3"
  },
  "language_info": {
   "codemirror_mode": {
    "name": "ipython",
    "version": 3
   },
   "file_extension": ".py",
   "mimetype": "text/x-python",
   "name": "python",
   "nbconvert_exporter": "python",
   "pygments_lexer": "ipython3",
   "version": "3.10.14"
  }
 },
 "nbformat": 4,
 "nbformat_minor": 2
}
