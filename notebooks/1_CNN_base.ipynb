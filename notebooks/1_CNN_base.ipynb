{
 "cells": [
  {
   "cell_type": "markdown",
   "metadata": {},
   "source": [
    "<div style=\"display: flex; align-items: center; justify-content: space-between; background-color: #1e355f; padding: 30px;\">\n",
    "    <div>\n",
    "        <h1 style=\"color: white; text-align: center; font-weight: bold;\">Datos No Estructurados: IMAGEN</h1>\n",
    "        <h2 style=\"color: white; text-align: center;\">Clasificador de Melanoma</h2>\n",
    "    </div>\n",
    "\n",
    "</div>"
   ]
  },
  {
   "cell_type": "markdown",
   "metadata": {},
   "source": [
    "<div style=\"padding: 5px;\">\n",
    "    <h3 style=\"color: #1e355f; font-weight: bold;\">Realizado por:</h3>\n",
    "</div>\n",
    "\n",
    "- Álvaro Ezquerro Pérez\n",
    "- María Calvo de Mora Román\n",
    "- Celia Quiles Alemañ\n"
   ]
  },
  {
   "cell_type": "code",
   "execution_count": 9,
   "metadata": {},
   "outputs": [],
   "source": [
    "import os\n",
    "import sys\n",
    "import matplotlib.pyplot as plt\n",
    "import seaborn as sns\n",
    "import pandas as pd\n",
    "import scipy\n",
    "import pickle\n",
    "import tensorflow.keras as keras\n",
    "from tensorflow.keras import optimizers\n",
    "from tensorflow.keras import models, layers\n",
    "from tensorflow.keras.preprocessing import image\n",
    "from tensorflow.keras.preprocessing.image import ImageDataGenerator\n",
    "from tensorflow.keras.models import load_model\n",
    "from tensorflow.keras.callbacks import EarlyStopping, ModelCheckpoint\n",
    "\n",
    "# Own modules\n",
    "notebook_path = os.getcwd()\n",
    "if notebook_path not in sys.path:\n",
    "    sys.path.append(notebook_path)\n",
    "project_path = os.path.dirname(notebook_path)\n",
    "if project_path not in sys.path:\n",
    "    sys.path.append(project_path)\n",
    "from utils.helpers import *"
   ]
  },
  {
   "cell_type": "markdown",
   "metadata": {},
   "source": [
    "<div style=\"display: flex; align-items: center; justify-content: space-between; background-color: #1e355f; padding: 10px;\">\n",
    "    <div>\n",
    "        <h1 style=\"color: white; text-align: center; font-weight: bold;\">Modelo Base</h1>\n",
    "    </div>\n",
    "</div>\n"
   ]
  },
  {
   "cell_type": "markdown",
   "metadata": {},
   "source": [
    "<div style=\"padding: 5px;\">\n",
    "    <h2 style=\"color: #1e355f; font-weight: bold;\">Descripción y Objetivos:</h2>\n",
    "</div>"
   ]
  },
  {
   "cell_type": "markdown",
   "metadata": {},
   "source": [
    "En este primer notebook, nuestro objetivo es implementar un modelo base empleando una arquitectura básica de Red Neuronal Convolucional (CNN) creada desde cero y sin ningún tipo de regularización, que actúa como nuestro modelo base de referencia sobre el que realizar mejoras."
   ]
  },
  {
   "cell_type": "markdown",
   "metadata": {},
   "source": [
    "<div style=\"padding: 5px;\">\n",
    "    <h2 style=\"color: #1e355f; font-weight: bold;\">Introducción:</h2>\n",
    "</div>"
   ]
  },
  {
   "cell_type": "markdown",
   "metadata": {},
   "source": [
    "Una Red Neuronal Convolucional (CNN, por sus siglas en inglés) es un tipo de red neuronal profunda que se emplea principalmente para el reconocimiento y clasificación de imágenes. Se compone de dos partes principales: \n",
    "- Una sección de extracción de características, correspondiente a a la red convolucional propiamente dicha.\n",
    "- Un clasificador, el cual es una red neuronal densa completamente conectada (DNN, por sus siglas en inglés).\n",
    "\n",
    "Los elementos fundamentales de una CNN son las capas convolucionales, que incluyen una serie de filtros (también conocidos como kernels) que extraen características de las imágenes de entrada. Cada filtro comienza en una posición determinada de la imagen y se desplaza sobre ella en pasos predeterminados (conocidos como stride), calculando la convolución entre sus pesos (que se ajustan durante el proceso de entrenamiento mediante la retropropagación) y la sección de la imagen que cubre. El ajuste de los pesos de cada filtro implica la minimización de una función de pérdida (típicamente la pérdida de entropía cruzada) entre la predicción y las etiquetas verdaderas del conjunto de datos original. Para ello, se utiliza un algoritmo de optimización que actualiza el valor de los pesos. Algunos algoritmos de optimización populares incluyen Adam (que utilizaremos para nuestro problema), el descenso de gradiente estocástico (SGD) o RMSprop.\n",
    "\n",
    "Así, la salida de cada filtro será un mapa de características, que luego pasa por una capa de agrupación (pooling) que reduce dimensionalmente la salida antes de entrar en la siguiente capa convolucional para una extracción de características más profunda.\n",
    "\n",
    "Las primeras capas de una CNN suelen ser superficiales, lo que significa que están compuestas por menos filtros de mayor tamaño. Las características que se extraen en estas capas tienden a ser más generales, detectando bordes o la forma general de la imagen. A medida que avanzamos en la red, la cantidad de filtros aumenta (es decir, las capas se vuelven más profundas) y las características extraídas se vuelven cada vez más complejas, refiriéndose a detalles muy específicos y minuciosos de la imagen que a menudo son ininterpretables para los humanos.\n",
    "\n",
    "Una vez que la imagen ha sido procesada a través de la parte convolucional de la red, la salida se aplana y se transfiere al clasificador (DNN). En esta parte de la arquitectura, cada neurona calcula una suma ponderada de las características de entrada y aplica una función de activación no lineal (típicamente ReLU) para producir la salida. La capa final se utiliza entonces para clasificar la imagen, empleando una neurona para cada una de las clases del problema de entrada. En esta capa, la función de activación es sigmoide (para clasificación binaria) o softmax (para problemas de múltiples clases).\n",
    "\n",
    "De manera esquemática y con el objetivo de proporcionar una visión general de la arquitectura anteriormente descrita, la *Figura 1* muestra la arquitectura de una CNN:\n",
    "\n",
    "<div style=\"text-align: center;\"> \n",
    "    <img src=\"..\\..\\imgs\\CNN_arquitecture.png\" width=\"500\" height=\"300\">\n",
    "    <p style=\"font-style: italic;\">Arquitectura CNN</p>\n",
    "    <p style=\"font-size: small;\">Fuente: <a href=\"https://towardsdatascience.com/a-comprehensive-guide-to-convolutional-neural-networks-the-eli5-way-3bd2b1164a53\">Saha, S. (Dic 15,2018). A Comprehensive Guide to Convolutional Neural Networks — the ELI5 way. Towards Data Science. Recuperado de [https://towardsdatascience.com/a-comprehensive-guide-to-convolutional-neural-networks-the-eli5-way-3bd2b1164a53]</a></p>\n",
    "</div>\n"
   ]
  },
  {
   "cell_type": "markdown",
   "metadata": {},
   "source": [
    "<div style=\"padding: 5px;\">\n",
    "    <h2 style=\"color: #1e355f; font-weight: bold;\">Preparación y carga de datos:</h2>\n",
    "</div>"
   ]
  },
  {
   "cell_type": "markdown",
   "metadata": {},
   "source": [
    "Los datos empleados para este proyecto se obtienen del dataset disponible en [Kaggle](https://www.kaggle.com/datasets/hasnainjaved/melanoma-skin-cancer-dataset-of-10000-images/data), que ha sido personalizado para construir modelos de Deep Learning que puedan clasificar esta condición médica diferenciando entre tumor maligno y benigno.\n",
    "\n",
    "Los datos descargados de [Kaggle](https://www.kaggle.com/datasets/hasnainjaved/melanoma-skin-cancer-dataset-of-10000-images/data) se ubican en el directorio `data` con la jerarquía de carpetas necesarias,la . Así, dentro del directorio `data` existen dos directorios separados `train` y `test`  que continen un número balanceado de imágenes  para cada una de las dos clases de tumor: benigno y maligno. Específicamente, se tiene que:\n",
    "- El directorio `train` cuenta con dos subcarpetas, 1 para cada clase (`benign` y `malignant`) con un total de 5.000 imágenes para cada una de dichas categorías.\n",
    "- El directorio `test`, cuenta de igual modo con dos subdirectorios `benign` y `malignant` con un total de 500 imágenes cada uno, suponiendo así un 10% de las imágenes del train."
   ]
  },
  {
   "cell_type": "markdown",
   "metadata": {},
   "source": [
    "Para reafirmar esto, vamos a ver cuántas imágenes hay para cada clase en el dataset de entrenamiento y prueba:"
   ]
  },
  {
   "cell_type": "code",
   "execution_count": 4,
   "metadata": {},
   "outputs": [],
   "source": [
    "# Carpeta base\n",
    "base_dir = \"../../data\"\n",
    "# Carpeta de entrenamiento\n",
    "train_dir = os.path.join(base_dir, \"train\")\n",
    "# Carpeta de test\n",
    "test_dir = os.path.join(base_dir, \"test\")\n",
    "\n",
    "# Obtén la información de cada conjunto\n",
    "num_classes_train, images_train = get_num_classes_images(train_dir)\n",
    "num_classes_test, images_test = get_num_classes_images(test_dir)"
   ]
  },
  {
   "cell_type": "code",
   "execution_count": 3,
   "metadata": {},
   "outputs": [
    {
     "name": "stdout",
     "output_type": "stream",
     "text": [
      "Number of classes: 2\n",
      "Existing classes: ['benign', 'malignant']\n",
      "\n",
      "----------------------------------------\n",
      "Number of images per class and dataset:\n",
      "----------------------------------------\n",
      "           Train  Test\n",
      "benign      4605   500\n",
      "malignant   4605   500\n"
     ]
    }
   ],
   "source": [
    "# Crear DataFrame\n",
    "data = {\n",
    "    \"Train\": [images_train.get(cls, 0) for cls in images_train],\n",
    "    \"Test\": [images_test.get(cls, 0) for cls in images_train]\n",
    "}\n",
    "df = pd.DataFrame(data, index=images_train.keys())\n",
    "\n",
    "# Mostrar información general de clases\n",
    "print(f\"Number of classes: {num_classes_train}\")\n",
    "print(f\"Existing classes: {list(images_train.keys())}\\n\")\n",
    "\n",
    "print(\"----------------------------------------\")\n",
    "print(\"Number of images per class and dataset:\")\n",
    "print(\"----------------------------------------\")\n",
    "print(df)"
   ]
  },
  {
   "cell_type": "markdown",
   "metadata": {},
   "source": [
    "Como se puede observar, nuestro dataset splitteado en train y test contiene las clases bien balanceados, y además, tenemos una buena cantidad de datos para el entrenamiento y la validación."
   ]
  },
  {
   "cell_type": "markdown",
   "metadata": {},
   "source": [
    "Con el objetivo de hacer unos modelos reproducibles, consideramos importante crear un directorio para almacenar los modelos entrenados. Al ser este nuestro primer modelo from scratch, es importante mencionar que este paso solo será necesario en este primer notebook, pues una vez creado este directorio, el resto de notebooks guardarán en él sus modelos, siendo común para el resto del proyecto."
   ]
  },
  {
   "cell_type": "code",
   "execution_count": 4,
   "metadata": {},
   "outputs": [],
   "source": [
    "# Creamos un directorio para almacenar los modelos entrenados\n",
    "models_dir = \"../../models\"\n",
    "if not os.path.exists(models_dir):\n",
    "    os.makedirs(models_dir)"
   ]
  },
  {
   "cell_type": "markdown",
   "metadata": {},
   "source": [
    "<div style=\"padding: 5px;\">\n",
    "    <h2 style=\"color: #1e355f; font-weight: bold;\">Preprocesamiento de los datos:</h2>\n",
    "</div>"
   ]
  },
  {
   "cell_type": "markdown",
   "metadata": {},
   "source": [
    "Una vez caragados los datos a utilizar, resulta fundamental en este tipo de modelos preprocesar los datos de entrada. En este sentido, se incluyen varios aspectos:\n",
    "- Normalización de la entrada: La normalización de las imágenes al dividir cada píxel por 255 (el máximo valor para un píxel en imágenes RGB) transforma los valores de los píxeles a un rango de 0 a 1. Esto es crucial porque ayuda a que el modelo aprenda más eficientemente. Las redes neuronales trabajan mejor con valores de entrada pequeños, y normalizar los datos ayuda a que el algoritmo de optimización (como el descenso de gradiente) converja más rápidamente.\n",
    "- Definición de la forma de la entrada (*input shape*): es necesario para informar a la red sobre el tamaño de las imágenes que estará procesando. Esto afecta el diseño de la red, incluyendo el número de parámetros (pesos) que necesita aprender y, por ende, su complejidad. Asegurarse de que todas las imágenes de entrada tengan el mismo tamaño es también esencial para que puedan ser procesadas de manera uniforme por la red y asegurar la consistencia.\n",
    "- Defición del tamaño de lote (*batch size*): este hiperpáremtro es crucial porque determina cuántas imágenes procesará la red antes de actualizar los parámetros del modelo. Un tamaño de lote muy pequeño puede llevar a una actualización de parámetros muy ruidosa y, potencialmente, a una convergencia errática. Un tamaño de lote muy grande, por otro lado, puede hacer que cada actualización de parámetros sea más estable pero potencialmente menos sensible a los datos específicos y aumentar el tiempo de computación por cada época. Además, un tamaño de lote más grande requiere más memoria, lo cual puede ser un problema con hardware limitado.\n",
    "\n",
    "Por ello, este apartado cubre la mencionada necesidad de preprocesar los datos para garantizar la consistencia de los mismos:"
   ]
  },
  {
   "cell_type": "markdown",
   "metadata": {},
   "source": [
    "En primer luegar, vamos a mirar las dimensiones de nuestras imágenes del dataset"
   ]
  },
  {
   "cell_type": "code",
   "execution_count": 5,
   "metadata": {},
   "outputs": [
    {
     "name": "stdout",
     "output_type": "stream",
     "text": [
      "(300, 300)\n"
     ]
    }
   ],
   "source": [
    "directory_path = '../../data/train/benign/melanoma_395.jpg'\n",
    "all_sizes = get_image_size(directory_path)\n",
    "print(all_sizes)"
   ]
  },
  {
   "cell_type": "markdown",
   "metadata": {},
   "source": [
    "Nuestras imágenes resultan tener una dimensión de (300,300) píxeles. Con esta información, ya podemos definir el *input_size*"
   ]
  },
  {
   "cell_type": "code",
   "execution_count": 6,
   "metadata": {},
   "outputs": [],
   "source": [
    "# Parámetros\n",
    "batch_size = 32 # Tamaño del lote (se establece a 32 porque si no, se alcanza la memoria máxima)\n",
    "input_shape = (300, 300, 3)"
   ]
  },
  {
   "cell_type": "markdown",
   "metadata": {},
   "source": [
    "Una vez determinados los parámetros, vamos a preparar los datos para la red:"
   ]
  },
  {
   "cell_type": "code",
   "execution_count": 7,
   "metadata": {},
   "outputs": [],
   "source": [
    "## Inicializar generador de imágenes\n",
    "# Para el conjunto de entrenamiento\n",
    "train_datagen = ImageDataGenerator(\n",
    "    rescale=1./255, # Normalizar los valores de todos los píxeles\n",
    ")\n",
    "# Para el conjunto de test\n",
    "test_datagen = ImageDataGenerator(\n",
    "    rescale=1./255, # Normalizar los valores de todos los píxeles\n",
    ")"
   ]
  },
  {
   "cell_type": "code",
   "execution_count": 8,
   "metadata": {},
   "outputs": [
    {
     "name": "stdout",
     "output_type": "stream",
     "text": [
      "Found 9210 images belonging to 2 classes.\n",
      "Found 1000 images belonging to 2 classes.\n"
     ]
    }
   ],
   "source": [
    "# Creación del generador de entrenamiento\n",
    "train_generator = train_datagen.flow_from_directory(\n",
    "    train_dir, # Directorio de entrenamiento\n",
    "    target_size=(input_shape[0], input_shape[1]), # Tamaño de las imágenes\n",
    "    batch_size=batch_size, # Tamaño del batch\n",
    "    class_mode='categorical', # Tipo de problema\n",
    "    shuffle=True # Mezclar las imágenes (batches con variedad aleatoria)\n",
    ")\n",
    "\n",
    "# Creación del generador de test\n",
    "test_generator = test_datagen.flow_from_directory(\n",
    "    test_dir, # Directorio de test\n",
    "    target_size=(input_shape[0], input_shape[1]), # Tamaño de las imágenes\n",
    "    batch_size=batch_size, # Tamaño del batch\n",
    "    class_mode='categorical', # Tipo de problema\n",
    "    shuffle=False # No es necesario mezclar las imágenes (típico en test para mantener un orden consistente)\n",
    ")"
   ]
  },
  {
   "cell_type": "markdown",
   "metadata": {},
   "source": [
    "Una vez configurados los generadores de imágenes para los conjuntos de entrenamiento y de test, es útil verificar que las dimensiones de los lotes de datos (`data_batch`) y de las etiquetas (`labels_batch`) sean las esperadas. Esta verificación nos ayuda a asegurarnos de que el preprocesamiento de las imágenes se está realizando correctamente y que las imágenes están siendo correctamente preparadas para el modelo.\n",
    "\n",
    "Para ello, vamos a realizar esta verificación para el primer lote de imágenes obtenido del generador de entrenamiento:"
   ]
  },
  {
   "cell_type": "code",
   "execution_count": 9,
   "metadata": {},
   "outputs": [
    {
     "name": "stdout",
     "output_type": "stream",
     "text": [
      "Tamano del batch: (32, 300, 300, 3)\n",
      "Tamano de las etiquetas: (32, 2)\n"
     ]
    }
   ],
   "source": [
    "for data_batch, labels_batch in train_generator:\n",
    "    print('Tamano del batch:', data_batch.shape)\n",
    "    print('Tamano de las etiquetas:', labels_batch.shape)\n",
    "    break"
   ]
  },
  {
   "cell_type": "markdown",
   "metadata": {},
   "source": [
    "Vemos como efectivamente, los resultados son coherentes con lo que hemos definido. Se muestra como cada lote contiene 32 imágenes, y cada imagen tiene dimensiones de 300x300 píxeles con 3 canales (RGB), porque estamos trabajando con imágenes a color. Además, vemos como cada lote contiene 32 etiquetas correspondientes a las 32 imágenes. Cada etiqueta está codificada en formato de dos clases (benigno, maligno)\n"
   ]
  },
  {
   "cell_type": "markdown",
   "metadata": {},
   "source": [
    "<div style=\"padding: 5px;\">\n",
    "    <h2 style=\"color: #1e355f; font-weight: bold;\">Estructura del modelo:</h2>\n",
    "</div>"
   ]
  },
  {
   "cell_type": "markdown",
   "metadata": {},
   "source": [
    "Una vez preparadas las imágenes para la entrada al modelo, procedemos a definir la estrcutura del modelo."
   ]
  },
  {
   "cell_type": "markdown",
   "metadata": {},
   "source": [
    "En primer lugar, definimos calgunos hiperparámetros necesarios:"
   ]
  },
  {
   "cell_type": "code",
   "execution_count": 10,
   "metadata": {},
   "outputs": [
    {
     "name": "stdout",
     "output_type": "stream",
     "text": [
      "Tamano del conjunto de entrenamiento: 9210\n",
      "Numero de batches por epoca: 287\n"
     ]
    }
   ],
   "source": [
    "# Definición de hiperparámetros\n",
    "training_size = sum([len(files) for r, d, files in os.walk(train_dir)])\n",
    "num_batches_per_epoch = training_size // batch_size\n",
    "print(f\"Tamano del conjunto de entrenamiento: {training_size}\")\n",
    "print(f\"Numero de batches por epoca: {num_batches_per_epoch}\")"
   ]
  },
  {
   "cell_type": "markdown",
   "metadata": {},
   "source": [
    "Se observa como el numero de batches por epoca es 71, lo que significa que se necesitan 71 iteraciones, es decir se procesarán 71 batches para completar una epoca. \n",
    "\n",
    "Una vez definidos los hiperparámetros se procede a definir la propria estrcutura la Red Neuronal Convolucional. Específicamente, se definirá con las siguientes capas:\n",
    "\n",
    "1. **Primera Capa Convolucional**: Utiliza 32 filtros de tamaño 3x3 con activación ReLU. Esta capa ayuda a extraer características básicas como bordes y texturas.\n",
    "2. **Primera Capa de Pooling**: Usa MaxPooling de 2x2 para reducir la dimensionalidad espacial de las características entrantes.\n",
    "3. **Segunda Capa Convolucional**: Aumenta a 64 filtros de tamaño 3x3 para capturar detalles más complejos en las imágenes.\n",
    "4. **Segunda Capa de Pooling**: Continúa con MaxPooling de 2x2 para seguir reduciendo la dimensionalidad.\n",
    "5. **Tercera Capa Convolucional**: Usa 128 filtros de tamaño 3x3, profundizando aún más la red para abstracciones más complejas de las características visuales.\n",
    "6. **Tercera Capa de Pooling**: MaxPooling de 2x2.\n",
    "7. **Aplanamiento (Flatten)**: Transforma el mapa de características en un vector único, que es necesario para la entrada a las capas densas.\n",
    "8. **Primera Capa Densa**: Capa totalmente conectada con 512 unidades y activación ReLU, proporciona el aprendizaje de relaciones no lineales entre las características.\n",
    "9. **Capa de Salida**: Capa densa con 2 unidades (una por cada clase posible) y una función de activación softmax, que asigna la probabilidad de cada clase para la clasificación."
   ]
  },
  {
   "cell_type": "code",
   "execution_count": 11,
   "metadata": {},
   "outputs": [
    {
     "name": "stderr",
     "output_type": "stream",
     "text": [
      "c:\\Users\\mcalv\\anaconda3\\envs\\ML2-DL\\lib\\site-packages\\keras\\src\\layers\\convolutional\\base_conv.py:107: UserWarning: Do not pass an `input_shape`/`input_dim` argument to a layer. When using Sequential models, prefer using an `Input(shape)` object as the first layer in the model instead.\n",
      "  super().__init__(activity_regularizer=activity_regularizer, **kwargs)\n"
     ]
    }
   ],
   "source": [
    "# Definición de la red\n",
    "model = models.Sequential()\n",
    "# Primera capa convolucional\n",
    "model.add(layers.Conv2D(32, (3, 3), activation='relu',\n",
    "                        input_shape=input_shape\n",
    "                        )\n",
    ")\n",
    "# Primera capa de pooling\n",
    "model.add(layers.MaxPooling2D((2, 2)))\n",
    "# Tercera capa convolucional\n",
    "model.add(layers.Conv2D(64, \n",
    "                        (3, 3), \n",
    "                        activation='relu'\n",
    "                        )\n",
    ")\n",
    "# Tercera capa de pooling\n",
    "model.add(layers.MaxPooling2D((2, 2)))\n",
    "# Cuarta capa convolucional\n",
    "model.add(layers.Conv2D(128, \n",
    "                        (3, 3), \n",
    "                        activation='relu'\n",
    "                        )\n",
    ")\n",
    "# Cuarta capa de pooling\n",
    "model.add(layers.MaxPooling2D((2, 2)))\n",
    "\n",
    "# Capa de aplanamiento\n",
    "model.add(layers.Flatten())\n",
    "# Capa densa\n",
    "model.add(layers.Dense(512, activation='relu'))\n",
    "# Capa de salida\n",
    "model.add(layers.Dense(2, activation='softmax'))"
   ]
  },
  {
   "cell_type": "markdown",
   "metadata": {},
   "source": [
    "Una vez que la estructura del modelo base ha sido definida, vamos a comprobar cuántos parametros tiene con el objetivo de hacernos una idea de la complejidad y flexibilidad del modelo creado haciendo uso `.summary()` :"
   ]
  },
  {
   "cell_type": "code",
   "execution_count": 12,
   "metadata": {},
   "outputs": [
    {
     "data": {
      "text/html": [
       "<pre style=\"white-space:pre;overflow-x:auto;line-height:normal;font-family:Menlo,'DejaVu Sans Mono',consolas,'Courier New',monospace\"><span style=\"font-weight: bold\">Model: \"sequential\"</span>\n",
       "</pre>\n"
      ],
      "text/plain": [
       "\u001b[1mModel: \"sequential\"\u001b[0m\n"
      ]
     },
     "metadata": {},
     "output_type": "display_data"
    },
    {
     "data": {
      "text/html": [
       "<pre style=\"white-space:pre;overflow-x:auto;line-height:normal;font-family:Menlo,'DejaVu Sans Mono',consolas,'Courier New',monospace\">┏━━━━━━━━━━━━━━━━━━━━━━━━━━━━━━━━━┳━━━━━━━━━━━━━━━━━━━━━━━━┳━━━━━━━━━━━━━━━┓\n",
       "┃<span style=\"font-weight: bold\"> Layer (type)                    </span>┃<span style=\"font-weight: bold\"> Output Shape           </span>┃<span style=\"font-weight: bold\">       Param # </span>┃\n",
       "┡━━━━━━━━━━━━━━━━━━━━━━━━━━━━━━━━━╇━━━━━━━━━━━━━━━━━━━━━━━━╇━━━━━━━━━━━━━━━┩\n",
       "│ conv2d (<span style=\"color: #0087ff; text-decoration-color: #0087ff\">Conv2D</span>)                 │ (<span style=\"color: #00d7ff; text-decoration-color: #00d7ff\">None</span>, <span style=\"color: #00af00; text-decoration-color: #00af00\">298</span>, <span style=\"color: #00af00; text-decoration-color: #00af00\">298</span>, <span style=\"color: #00af00; text-decoration-color: #00af00\">32</span>)   │           <span style=\"color: #00af00; text-decoration-color: #00af00\">896</span> │\n",
       "├─────────────────────────────────┼────────────────────────┼───────────────┤\n",
       "│ max_pooling2d (<span style=\"color: #0087ff; text-decoration-color: #0087ff\">MaxPooling2D</span>)    │ (<span style=\"color: #00d7ff; text-decoration-color: #00d7ff\">None</span>, <span style=\"color: #00af00; text-decoration-color: #00af00\">149</span>, <span style=\"color: #00af00; text-decoration-color: #00af00\">149</span>, <span style=\"color: #00af00; text-decoration-color: #00af00\">32</span>)   │             <span style=\"color: #00af00; text-decoration-color: #00af00\">0</span> │\n",
       "├─────────────────────────────────┼────────────────────────┼───────────────┤\n",
       "│ conv2d_1 (<span style=\"color: #0087ff; text-decoration-color: #0087ff\">Conv2D</span>)               │ (<span style=\"color: #00d7ff; text-decoration-color: #00d7ff\">None</span>, <span style=\"color: #00af00; text-decoration-color: #00af00\">147</span>, <span style=\"color: #00af00; text-decoration-color: #00af00\">147</span>, <span style=\"color: #00af00; text-decoration-color: #00af00\">64</span>)   │        <span style=\"color: #00af00; text-decoration-color: #00af00\">18,496</span> │\n",
       "├─────────────────────────────────┼────────────────────────┼───────────────┤\n",
       "│ max_pooling2d_1 (<span style=\"color: #0087ff; text-decoration-color: #0087ff\">MaxPooling2D</span>)  │ (<span style=\"color: #00d7ff; text-decoration-color: #00d7ff\">None</span>, <span style=\"color: #00af00; text-decoration-color: #00af00\">73</span>, <span style=\"color: #00af00; text-decoration-color: #00af00\">73</span>, <span style=\"color: #00af00; text-decoration-color: #00af00\">64</span>)     │             <span style=\"color: #00af00; text-decoration-color: #00af00\">0</span> │\n",
       "├─────────────────────────────────┼────────────────────────┼───────────────┤\n",
       "│ conv2d_2 (<span style=\"color: #0087ff; text-decoration-color: #0087ff\">Conv2D</span>)               │ (<span style=\"color: #00d7ff; text-decoration-color: #00d7ff\">None</span>, <span style=\"color: #00af00; text-decoration-color: #00af00\">71</span>, <span style=\"color: #00af00; text-decoration-color: #00af00\">71</span>, <span style=\"color: #00af00; text-decoration-color: #00af00\">128</span>)    │        <span style=\"color: #00af00; text-decoration-color: #00af00\">73,856</span> │\n",
       "├─────────────────────────────────┼────────────────────────┼───────────────┤\n",
       "│ max_pooling2d_2 (<span style=\"color: #0087ff; text-decoration-color: #0087ff\">MaxPooling2D</span>)  │ (<span style=\"color: #00d7ff; text-decoration-color: #00d7ff\">None</span>, <span style=\"color: #00af00; text-decoration-color: #00af00\">35</span>, <span style=\"color: #00af00; text-decoration-color: #00af00\">35</span>, <span style=\"color: #00af00; text-decoration-color: #00af00\">128</span>)    │             <span style=\"color: #00af00; text-decoration-color: #00af00\">0</span> │\n",
       "├─────────────────────────────────┼────────────────────────┼───────────────┤\n",
       "│ flatten (<span style=\"color: #0087ff; text-decoration-color: #0087ff\">Flatten</span>)               │ (<span style=\"color: #00d7ff; text-decoration-color: #00d7ff\">None</span>, <span style=\"color: #00af00; text-decoration-color: #00af00\">156800</span>)         │             <span style=\"color: #00af00; text-decoration-color: #00af00\">0</span> │\n",
       "├─────────────────────────────────┼────────────────────────┼───────────────┤\n",
       "│ dense (<span style=\"color: #0087ff; text-decoration-color: #0087ff\">Dense</span>)                   │ (<span style=\"color: #00d7ff; text-decoration-color: #00d7ff\">None</span>, <span style=\"color: #00af00; text-decoration-color: #00af00\">512</span>)            │    <span style=\"color: #00af00; text-decoration-color: #00af00\">80,282,112</span> │\n",
       "├─────────────────────────────────┼────────────────────────┼───────────────┤\n",
       "│ dense_1 (<span style=\"color: #0087ff; text-decoration-color: #0087ff\">Dense</span>)                 │ (<span style=\"color: #00d7ff; text-decoration-color: #00d7ff\">None</span>, <span style=\"color: #00af00; text-decoration-color: #00af00\">2</span>)              │         <span style=\"color: #00af00; text-decoration-color: #00af00\">1,026</span> │\n",
       "└─────────────────────────────────┴────────────────────────┴───────────────┘\n",
       "</pre>\n"
      ],
      "text/plain": [
       "┏━━━━━━━━━━━━━━━━━━━━━━━━━━━━━━━━━┳━━━━━━━━━━━━━━━━━━━━━━━━┳━━━━━━━━━━━━━━━┓\n",
       "┃\u001b[1m \u001b[0m\u001b[1mLayer (type)                   \u001b[0m\u001b[1m \u001b[0m┃\u001b[1m \u001b[0m\u001b[1mOutput Shape          \u001b[0m\u001b[1m \u001b[0m┃\u001b[1m \u001b[0m\u001b[1m      Param #\u001b[0m\u001b[1m \u001b[0m┃\n",
       "┡━━━━━━━━━━━━━━━━━━━━━━━━━━━━━━━━━╇━━━━━━━━━━━━━━━━━━━━━━━━╇━━━━━━━━━━━━━━━┩\n",
       "│ conv2d (\u001b[38;5;33mConv2D\u001b[0m)                 │ (\u001b[38;5;45mNone\u001b[0m, \u001b[38;5;34m298\u001b[0m, \u001b[38;5;34m298\u001b[0m, \u001b[38;5;34m32\u001b[0m)   │           \u001b[38;5;34m896\u001b[0m │\n",
       "├─────────────────────────────────┼────────────────────────┼───────────────┤\n",
       "│ max_pooling2d (\u001b[38;5;33mMaxPooling2D\u001b[0m)    │ (\u001b[38;5;45mNone\u001b[0m, \u001b[38;5;34m149\u001b[0m, \u001b[38;5;34m149\u001b[0m, \u001b[38;5;34m32\u001b[0m)   │             \u001b[38;5;34m0\u001b[0m │\n",
       "├─────────────────────────────────┼────────────────────────┼───────────────┤\n",
       "│ conv2d_1 (\u001b[38;5;33mConv2D\u001b[0m)               │ (\u001b[38;5;45mNone\u001b[0m, \u001b[38;5;34m147\u001b[0m, \u001b[38;5;34m147\u001b[0m, \u001b[38;5;34m64\u001b[0m)   │        \u001b[38;5;34m18,496\u001b[0m │\n",
       "├─────────────────────────────────┼────────────────────────┼───────────────┤\n",
       "│ max_pooling2d_1 (\u001b[38;5;33mMaxPooling2D\u001b[0m)  │ (\u001b[38;5;45mNone\u001b[0m, \u001b[38;5;34m73\u001b[0m, \u001b[38;5;34m73\u001b[0m, \u001b[38;5;34m64\u001b[0m)     │             \u001b[38;5;34m0\u001b[0m │\n",
       "├─────────────────────────────────┼────────────────────────┼───────────────┤\n",
       "│ conv2d_2 (\u001b[38;5;33mConv2D\u001b[0m)               │ (\u001b[38;5;45mNone\u001b[0m, \u001b[38;5;34m71\u001b[0m, \u001b[38;5;34m71\u001b[0m, \u001b[38;5;34m128\u001b[0m)    │        \u001b[38;5;34m73,856\u001b[0m │\n",
       "├─────────────────────────────────┼────────────────────────┼───────────────┤\n",
       "│ max_pooling2d_2 (\u001b[38;5;33mMaxPooling2D\u001b[0m)  │ (\u001b[38;5;45mNone\u001b[0m, \u001b[38;5;34m35\u001b[0m, \u001b[38;5;34m35\u001b[0m, \u001b[38;5;34m128\u001b[0m)    │             \u001b[38;5;34m0\u001b[0m │\n",
       "├─────────────────────────────────┼────────────────────────┼───────────────┤\n",
       "│ flatten (\u001b[38;5;33mFlatten\u001b[0m)               │ (\u001b[38;5;45mNone\u001b[0m, \u001b[38;5;34m156800\u001b[0m)         │             \u001b[38;5;34m0\u001b[0m │\n",
       "├─────────────────────────────────┼────────────────────────┼───────────────┤\n",
       "│ dense (\u001b[38;5;33mDense\u001b[0m)                   │ (\u001b[38;5;45mNone\u001b[0m, \u001b[38;5;34m512\u001b[0m)            │    \u001b[38;5;34m80,282,112\u001b[0m │\n",
       "├─────────────────────────────────┼────────────────────────┼───────────────┤\n",
       "│ dense_1 (\u001b[38;5;33mDense\u001b[0m)                 │ (\u001b[38;5;45mNone\u001b[0m, \u001b[38;5;34m2\u001b[0m)              │         \u001b[38;5;34m1,026\u001b[0m │\n",
       "└─────────────────────────────────┴────────────────────────┴───────────────┘\n"
      ]
     },
     "metadata": {},
     "output_type": "display_data"
    },
    {
     "data": {
      "text/html": [
       "<pre style=\"white-space:pre;overflow-x:auto;line-height:normal;font-family:Menlo,'DejaVu Sans Mono',consolas,'Courier New',monospace\"><span style=\"font-weight: bold\"> Total params: </span><span style=\"color: #00af00; text-decoration-color: #00af00\">80,376,386</span> (306.61 MB)\n",
       "</pre>\n"
      ],
      "text/plain": [
       "\u001b[1m Total params: \u001b[0m\u001b[38;5;34m80,376,386\u001b[0m (306.61 MB)\n"
      ]
     },
     "metadata": {},
     "output_type": "display_data"
    },
    {
     "data": {
      "text/html": [
       "<pre style=\"white-space:pre;overflow-x:auto;line-height:normal;font-family:Menlo,'DejaVu Sans Mono',consolas,'Courier New',monospace\"><span style=\"font-weight: bold\"> Trainable params: </span><span style=\"color: #00af00; text-decoration-color: #00af00\">80,376,386</span> (306.61 MB)\n",
       "</pre>\n"
      ],
      "text/plain": [
       "\u001b[1m Trainable params: \u001b[0m\u001b[38;5;34m80,376,386\u001b[0m (306.61 MB)\n"
      ]
     },
     "metadata": {},
     "output_type": "display_data"
    },
    {
     "data": {
      "text/html": [
       "<pre style=\"white-space:pre;overflow-x:auto;line-height:normal;font-family:Menlo,'DejaVu Sans Mono',consolas,'Courier New',monospace\"><span style=\"font-weight: bold\"> Non-trainable params: </span><span style=\"color: #00af00; text-decoration-color: #00af00\">0</span> (0.00 B)\n",
       "</pre>\n"
      ],
      "text/plain": [
       "\u001b[1m Non-trainable params: \u001b[0m\u001b[38;5;34m0\u001b[0m (0.00 B)\n"
      ]
     },
     "metadata": {},
     "output_type": "display_data"
    }
   ],
   "source": [
    "# Summary \n",
    "model.summary()"
   ]
  },
  {
   "cell_type": "markdown",
   "metadata": {},
   "source": [
    "Se observa como en total, contamos con aproximadamente un total de 80 millones de parámetros a entrenar en nuestra red."
   ]
  },
  {
   "cell_type": "markdown",
   "metadata": {},
   "source": [
    "A continuación, se va a especificar cómo se configura y compila el modelo para el entrenamiento. El optimizador elegido es **Adam (Adaptive Moment Estimation)**, uno de los algoritmos de optimización más populares y versátiles en el ámbito del aprendizaje profundo. Adam mejora el descenso de gradiente estocástico (SGD) al ajustar las tasas de aprendizaje de cada parámetro automáticamente. Estas estimaciones se actualizan en cada iteración del proceso de entrenamiento y ayudan a mejorar la convergencia del modelo.\n",
    "\n",
    "El optimizador Adam también incorpora un factor conocido como tasa de decaimiento, que reduce gradualmente la tasa de aprendizaje a medida que avanza el entrenamiento, permitiendo una optimización más fina hacia el final del proceso. \n",
    "\n",
    "La función de pérdida especificada para la compilación del modelo es `categorical_crossentropy`, adecuada cuando se utilizan etiquetas codificadas en formato one-hot. Además, se seguirá la métrica de 'accuracy' (`acc`) para evaluar el desempeño del modelo durante el entrenamiento.\n",
    "\n",
    "La configuración de compilación del modelo se realiza de la siguiente manera:"
   ]
  },
  {
   "cell_type": "code",
   "execution_count": 13,
   "metadata": {},
   "outputs": [],
   "source": [
    "model.compile(\n",
    "    loss='categorical_crossentropy',\n",
    "    optimizer=optimizers.Adam(learning_rate=1e-4),\n",
    "    metrics=['acc']\n",
    ")"
   ]
  },
  {
   "cell_type": "markdown",
   "metadata": {},
   "source": [
    "<div style=\"padding: 5px;\">\n",
    "    <h2 style=\"color: #1e355f; font-weight: bold;\">Entrenamiento del modelo:</h2>\n",
    "</div>"
   ]
  },
  {
   "cell_type": "markdown",
   "metadata": {},
   "source": [
    "Una vez completados todos los pasos anteriores, es hora de proceder a entrenar el modelo. \n",
    "\n",
    "Vamos a utilizar `EarlyStopping` para limitar el sobre-entrenamiento, empleando específicamente el validation loss como métrica para parar en caso de que no haya ninguna mejora en el loss después de específicamente 4 épocas. Del mismo modo, emplearemos `ModelCheckpoint` para guardar el mejor modelo obtenido durante el entrenamiento. \n",
    "\n",
    "En cuanto al número de épocas mencionadas, dado que estamos trabajando con un dataset no extremadamente grande, vamos a establecer un número de 30 épocas pues consideramos estar bastante seguros de que el entrenamiento se detendrá antes de dicho máximo. "
   ]
  },
  {
   "cell_type": "code",
   "execution_count": 15,
   "metadata": {},
   "outputs": [
    {
     "name": "stdout",
     "output_type": "stream",
     "text": [
      "Epoch 1/30\n"
     ]
    },
    {
     "name": "stderr",
     "output_type": "stream",
     "text": [
      "c:\\Users\\mcalv\\anaconda3\\envs\\ML2-DL\\lib\\site-packages\\keras\\src\\trainers\\data_adapters\\py_dataset_adapter.py:121: UserWarning: Your `PyDataset` class should call `super().__init__(**kwargs)` in its constructor. `**kwargs` can include `workers`, `use_multiprocessing`, `max_queue_size`. Do not pass these arguments to `fit()`, as they will be ignored.\n",
      "  self._warn_if_super_not_called()\n"
     ]
    },
    {
     "name": "stdout",
     "output_type": "stream",
     "text": [
      "\u001b[1m287/287\u001b[0m \u001b[32m━━━━━━━━━━━━━━━━━━━━\u001b[0m\u001b[37m\u001b[0m \u001b[1m0s\u001b[0m 1s/step - acc: 0.7052 - loss: 0.6163\n",
      "Epoch 1: val_loss improved from inf to 0.36826, saving model to ../../models\\cnn_base_model.keras\n",
      "\u001b[1m287/287\u001b[0m \u001b[32m━━━━━━━━━━━━━━━━━━━━\u001b[0m\u001b[37m\u001b[0m \u001b[1m373s\u001b[0m 1s/step - acc: 0.7055 - loss: 0.6157 - val_acc: 0.8750 - val_loss: 0.3683\n",
      "Epoch 2/30\n",
      "\u001b[1m  1/287\u001b[0m \u001b[37m━━━━━━━━━━━━━━━━━━━━\u001b[0m \u001b[1m5:03\u001b[0m 1s/step - acc: 0.9062 - loss: 0.2336"
     ]
    },
    {
     "name": "stderr",
     "output_type": "stream",
     "text": [
      "c:\\Users\\mcalv\\anaconda3\\envs\\ML2-DL\\lib\\contextlib.py:153: UserWarning: Your input ran out of data; interrupting training. Make sure that your dataset or generator can generate at least `steps_per_epoch * epochs` batches. You may need to use the `.repeat()` function when building your dataset.\n",
      "  self.gen.throw(typ, value, traceback)\n"
     ]
    },
    {
     "name": "stdout",
     "output_type": "stream",
     "text": [
      "\n",
      "Epoch 2: val_loss did not improve from 0.36826\n",
      "\u001b[1m287/287\u001b[0m \u001b[32m━━━━━━━━━━━━━━━━━━━━\u001b[0m\u001b[37m\u001b[0m \u001b[1m7s\u001b[0m 19ms/step - acc: 0.9062 - loss: 0.2336 - val_acc: 0.8344 - val_loss: 0.3830\n",
      "Epoch 3/30\n",
      "\u001b[1m287/287\u001b[0m \u001b[32m━━━━━━━━━━━━━━━━━━━━\u001b[0m\u001b[37m\u001b[0m \u001b[1m0s\u001b[0m 1s/step - acc: 0.8495 - loss: 0.3373\n",
      "Epoch 3: val_loss improved from 0.36826 to 0.15416, saving model to ../../models\\cnn_base_model.keras\n",
      "\u001b[1m287/287\u001b[0m \u001b[32m━━━━━━━━━━━━━━━━━━━━\u001b[0m\u001b[37m\u001b[0m \u001b[1m320s\u001b[0m 1s/step - acc: 0.8496 - loss: 0.3372 - val_acc: 0.9250 - val_loss: 0.1542\n",
      "Epoch 4/30\n",
      "\u001b[1m  1/287\u001b[0m \u001b[37m━━━━━━━━━━━━━━━━━━━━\u001b[0m \u001b[1m5:28\u001b[0m 1s/step - acc: 0.8438 - loss: 0.3687\n",
      "Epoch 4: val_loss did not improve from 0.15416\n",
      "\u001b[1m287/287\u001b[0m \u001b[32m━━━━━━━━━━━━━━━━━━━━\u001b[0m\u001b[37m\u001b[0m \u001b[1m2s\u001b[0m 1ms/step - acc: 0.8438 - loss: 0.3687 - val_acc: 0.3000 - val_loss: 1.5331\n",
      "Epoch 5/30\n",
      "\u001b[1m287/287\u001b[0m \u001b[32m━━━━━━━━━━━━━━━━━━━━\u001b[0m\u001b[37m\u001b[0m \u001b[1m0s\u001b[0m 1s/step - acc: 0.8910 - loss: 0.2702\n",
      "Epoch 5: val_loss improved from 0.15416 to 0.10770, saving model to ../../models\\cnn_base_model.keras\n",
      "\u001b[1m287/287\u001b[0m \u001b[32m━━━━━━━━━━━━━━━━━━━━\u001b[0m\u001b[37m\u001b[0m \u001b[1m323s\u001b[0m 1s/step - acc: 0.8910 - loss: 0.2702 - val_acc: 0.9656 - val_loss: 0.1077\n",
      "Epoch 6/30\n",
      "\u001b[1m  1/287\u001b[0m \u001b[37m━━━━━━━━━━━━━━━━━━━━\u001b[0m \u001b[1m5:18\u001b[0m 1s/step - acc: 0.8750 - loss: 0.3039\n",
      "Epoch 6: val_loss did not improve from 0.10770\n",
      "\u001b[1m287/287\u001b[0m \u001b[32m━━━━━━━━━━━━━━━━━━━━\u001b[0m\u001b[37m\u001b[0m \u001b[1m4s\u001b[0m 9ms/step - acc: 0.8750 - loss: 0.3039 - val_acc: 0.8562 - val_loss: 0.3302\n",
      "Epoch 7/30\n",
      "\u001b[1m287/287\u001b[0m \u001b[32m━━━━━━━━━━━━━━━━━━━━\u001b[0m\u001b[37m\u001b[0m \u001b[1m0s\u001b[0m 1s/step - acc: 0.8900 - loss: 0.2603\n",
      "Epoch 7: val_loss improved from 0.10770 to 0.04967, saving model to ../../models\\cnn_base_model.keras\n",
      "\u001b[1m287/287\u001b[0m \u001b[32m━━━━━━━━━━━━━━━━━━━━\u001b[0m\u001b[37m\u001b[0m \u001b[1m324s\u001b[0m 1s/step - acc: 0.8900 - loss: 0.2603 - val_acc: 0.9875 - val_loss: 0.0497\n",
      "Epoch 8/30\n",
      "\u001b[1m  1/287\u001b[0m \u001b[37m━━━━━━━━━━━━━━━━━━━━\u001b[0m \u001b[1m3:30\u001b[0m 734ms/step - acc: 0.9062 - loss: 0.2450\n",
      "Epoch 8: val_loss did not improve from 0.04967\n",
      "\u001b[1m287/287\u001b[0m \u001b[32m━━━━━━━━━━━━━━━━━━━━\u001b[0m\u001b[37m\u001b[0m \u001b[1m1s\u001b[0m 633us/step - acc: 0.9062 - loss: 0.2450 - val_acc: 0.3250 - val_loss: 1.1980\n",
      "Epoch 9/30\n",
      "\u001b[1m287/287\u001b[0m \u001b[32m━━━━━━━━━━━━━━━━━━━━\u001b[0m\u001b[37m\u001b[0m \u001b[1m0s\u001b[0m 798ms/step - acc: 0.9019 - loss: 0.2322\n",
      "Epoch 9: val_loss did not improve from 0.04967\n",
      "\u001b[1m287/287\u001b[0m \u001b[32m━━━━━━━━━━━━━━━━━━━━\u001b[0m\u001b[37m\u001b[0m \u001b[1m231s\u001b[0m 804ms/step - acc: 0.9019 - loss: 0.2322 - val_acc: 0.9469 - val_loss: 0.1576\n",
      "Epoch 10/30\n",
      "\u001b[1m  1/287\u001b[0m \u001b[37m━━━━━━━━━━━━━━━━━━━━\u001b[0m \u001b[1m3:28\u001b[0m 731ms/step - acc: 0.9688 - loss: 0.1738\n",
      "Epoch 10: val_loss did not improve from 0.04967\n",
      "\u001b[1m287/287\u001b[0m \u001b[32m━━━━━━━━━━━━━━━━━━━━\u001b[0m\u001b[37m\u001b[0m \u001b[1m2s\u001b[0m 6ms/step - acc: 0.9688 - loss: 0.1738 - val_acc: 0.8719 - val_loss: 0.3002\n",
      "Epoch 11/30\n",
      "\u001b[1m287/287\u001b[0m \u001b[32m━━━━━━━━━━━━━━━━━━━━\u001b[0m\u001b[37m\u001b[0m \u001b[1m0s\u001b[0m 765ms/step - acc: 0.9036 - loss: 0.2247\n",
      "Epoch 11: val_loss improved from 0.04967 to 0.03213, saving model to ../../models\\cnn_base_model.keras\n",
      "\u001b[1m287/287\u001b[0m \u001b[32m━━━━━━━━━━━━━━━━━━━━\u001b[0m\u001b[37m\u001b[0m \u001b[1m223s\u001b[0m 777ms/step - acc: 0.9036 - loss: 0.2246 - val_acc: 0.9875 - val_loss: 0.0321\n",
      "Epoch 12/30\n",
      "\u001b[1m  1/287\u001b[0m \u001b[37m━━━━━━━━━━━━━━━━━━━━\u001b[0m \u001b[1m3:29\u001b[0m 731ms/step - acc: 0.9375 - loss: 0.1036\n",
      "Epoch 12: val_loss did not improve from 0.03213\n",
      "\u001b[1m287/287\u001b[0m \u001b[32m━━━━━━━━━━━━━━━━━━━━\u001b[0m\u001b[37m\u001b[0m \u001b[1m1s\u001b[0m 791us/step - acc: 0.9375 - loss: 0.1036 - val_acc: 0.4500 - val_loss: 1.1383\n",
      "Epoch 13/30\n",
      "\u001b[1m287/287\u001b[0m \u001b[32m━━━━━━━━━━━━━━━━━━━━\u001b[0m\u001b[37m\u001b[0m \u001b[1m0s\u001b[0m 890ms/step - acc: 0.9142 - loss: 0.2102\n",
      "Epoch 13: val_loss did not improve from 0.03213\n",
      "\u001b[1m287/287\u001b[0m \u001b[32m━━━━━━━━━━━━━━━━━━━━\u001b[0m\u001b[37m\u001b[0m \u001b[1m259s\u001b[0m 900ms/step - acc: 0.9142 - loss: 0.2102 - val_acc: 0.9281 - val_loss: 0.1858\n",
      "Epoch 14/30\n",
      "\u001b[1m  1/287\u001b[0m \u001b[37m━━━━━━━━━━━━━━━━━━━━\u001b[0m \u001b[1m6:25\u001b[0m 1s/step - acc: 0.9688 - loss: 0.1166\n",
      "Epoch 14: val_loss did not improve from 0.03213\n",
      "\u001b[1m287/287\u001b[0m \u001b[32m━━━━━━━━━━━━━━━━━━━━\u001b[0m\u001b[37m\u001b[0m \u001b[1m4s\u001b[0m 10ms/step - acc: 0.9688 - loss: 0.1166 - val_acc: 0.8656 - val_loss: 0.2863\n",
      "Epoch 15/30\n",
      "\u001b[1m287/287\u001b[0m \u001b[32m━━━━━━━━━━━━━━━━━━━━\u001b[0m\u001b[37m\u001b[0m \u001b[1m0s\u001b[0m 1s/step - acc: 0.9236 - loss: 0.1950\n",
      "Epoch 15: val_loss improved from 0.03213 to 0.02908, saving model to ../../models\\cnn_base_model.keras\n",
      "\u001b[1m287/287\u001b[0m \u001b[32m━━━━━━━━━━━━━━━━━━━━\u001b[0m\u001b[37m\u001b[0m \u001b[1m302s\u001b[0m 1s/step - acc: 0.9236 - loss: 0.1950 - val_acc: 0.9906 - val_loss: 0.0291\n",
      "Epoch 16/30\n",
      "\u001b[1m  1/287\u001b[0m \u001b[37m━━━━━━━━━━━━━━━━━━━━\u001b[0m \u001b[1m3:28\u001b[0m 728ms/step - acc: 0.9688 - loss: 0.1182\n",
      "Epoch 16: val_loss did not improve from 0.02908\n",
      "\u001b[1m287/287\u001b[0m \u001b[32m━━━━━━━━━━━━━━━━━━━━\u001b[0m\u001b[37m\u001b[0m \u001b[1m1s\u001b[0m 762us/step - acc: 0.9688 - loss: 0.1182 - val_acc: 0.4250 - val_loss: 1.2174\n",
      "Epoch 17/30\n",
      "\u001b[1m287/287\u001b[0m \u001b[32m━━━━━━━━━━━━━━━━━━━━\u001b[0m\u001b[37m\u001b[0m \u001b[1m0s\u001b[0m 801ms/step - acc: 0.9210 - loss: 0.1918\n",
      "Epoch 17: val_loss did not improve from 0.02908\n",
      "\u001b[1m287/287\u001b[0m \u001b[32m━━━━━━━━━━━━━━━━━━━━\u001b[0m\u001b[37m\u001b[0m \u001b[1m232s\u001b[0m 806ms/step - acc: 0.9211 - loss: 0.1917 - val_acc: 0.9344 - val_loss: 0.1722\n",
      "Epoch 18/30\n",
      "\u001b[1m  1/287\u001b[0m \u001b[37m━━━━━━━━━━━━━━━━━━━━\u001b[0m \u001b[1m3:39\u001b[0m 767ms/step - acc: 0.9375 - loss: 0.1189\n",
      "Epoch 18: val_loss did not improve from 0.02908\n",
      "\u001b[1m287/287\u001b[0m \u001b[32m━━━━━━━━━━━━━━━━━━━━\u001b[0m\u001b[37m\u001b[0m \u001b[1m2s\u001b[0m 6ms/step - acc: 0.9375 - loss: 0.1189 - val_acc: 0.8687 - val_loss: 0.3263\n",
      "Epoch 19/30\n",
      "\u001b[1m287/287\u001b[0m \u001b[32m━━━━━━━━━━━━━━━━━━━━\u001b[0m\u001b[37m\u001b[0m \u001b[1m0s\u001b[0m 759ms/step - acc: 0.9299 - loss: 0.1766\n",
      "Epoch 19: val_loss did not improve from 0.02908\n",
      "\u001b[1m287/287\u001b[0m \u001b[32m━━━━━━━━━━━━━━━━━━━━\u001b[0m\u001b[37m\u001b[0m \u001b[1m220s\u001b[0m 764ms/step - acc: 0.9299 - loss: 0.1766 - val_acc: 0.9875 - val_loss: 0.0459\n",
      "Epoch 19: early stopping\n"
     ]
    }
   ],
   "source": [
    "# Definir el path para almacenar el modelo\n",
    "model_path = os.path.join(models_dir, \"cnn_base_model.keras\")\n",
    "\n",
    "# Definición del EarlyStopping y ModelCheckpoint\n",
    "early_stopping = EarlyStopping(\n",
    "    monitor ='val_loss', # Parar el entrenamiento cuando la función de pérdida de validación no disminuya\n",
    "    mode = 'min', # Minimizar la función de pérdida\n",
    "    patience = 4, # Número de épocas sin mejora después de las cuales el entrenamiento se detendrá\n",
    "    verbose = 1 # Mostrar mensaje\n",
    ")\n",
    "\n",
    "model_checkpoint = ModelCheckpoint(\n",
    "    filepath = model_path, # Ruta para guardar el modelo\n",
    "    monitor = 'val_loss', # Parar el entrenamiento cuando la función de pérdida de validación no disminuya\n",
    "    mode = 'min', # Minimizar la función de pérdida\n",
    "    save_best_only = True, # Guardar el mejor modelo\n",
    "    verbose = 1 # Mostrar mensaje\n",
    ")\n",
    "\n",
    "# Entrenamiento del modelo\n",
    "history = model.fit(\n",
    "    train_generator, \n",
    "    steps_per_epoch=num_batches_per_epoch, # Número de pasos por época\n",
    "    epochs=30, # Número de épocas de entrenamiento\n",
    "    validation_data=test_generator,\n",
    "    validation_steps=10, # Número de pasos por época de validación \n",
    "    callbacks=[early_stopping, model_checkpoint] # Callbacks (EarlyStopping y ModelCheckpoint)\n",
    ")\n",
    "\n",
    "# Guardamos el objeto history en un archivo \n",
    "history_path = os.path.join(models_dir, \"cnn_base_model_history.pkl\")\n",
    "with open(history_path, \"wb\") as file:\n",
    "    pickle.dump(history.history, file)"
   ]
  },
  {
   "cell_type": "markdown",
   "metadata": {},
   "source": [
    "Como era de esperar debido al `EarlyStopping` resulta que el modelo ha parado al llegar a la epoch 19. Esto implica que el loss en validación no ha mejorado significativamente en las últimas 4 epochs, aunque las métricas de entrenamiento si han ido mejorando levemente, lo cual quiere decir que en estas últimas epochs el modelo simplemente  se ha ido sobre-ajustando a los datos en el entrenamiento pero sin suponer una mejora en datos no vistos o en el rendimiento del modelo."
   ]
  },
  {
   "cell_type": "markdown",
   "metadata": {},
   "source": [
    "Guardamos ahora el mejor modelo encontrado durante el entrenamiento:"
   ]
  },
  {
   "cell_type": "code",
   "execution_count": 16,
   "metadata": {},
   "outputs": [],
   "source": [
    "base_model = load_model(model_path)"
   ]
  },
  {
   "cell_type": "markdown",
   "metadata": {},
   "source": [
    "<div style=\"padding: 5px;\">\n",
    "    <h2 style=\"color: #1e355f; font-weight: bold;\">Validación:</h2>\n",
    "</div>"
   ]
  },
  {
   "cell_type": "markdown",
   "metadata": {},
   "source": [
    "Con el fin de observar evaluar el performance del modelo entrenado, procedemos a obtener un gráfico en el que se observa la pérdida (*loss*) y la precisión (*accuracy*) de los conjuntos de entrenamiento y validación mostrando su evolucionado durante el proceso de entrenamiento."
   ]
  },
  {
   "cell_type": "code",
   "execution_count": 13,
   "metadata": {},
   "outputs": [
    {
     "data": {
      "image/png": "[encoded data removed]",
      "text/plain": [
       "<Figure size 1000x500 with 2 Axes>"
      ]
     },
     "metadata": {},
     "output_type": "display_data"
    }
   ],
   "source": [
    "# Cargamos el modelo\n",
    "model = load_model(model_path)\n",
    "# Formatear el history para visualizarlo\n",
    "formatted_history = prepare_history_data(history)\n",
    "# Llamar a la función de plot\n",
    "plot_training(formatted_history)"
   ]
  },
  {
   "cell_type": "markdown",
   "metadata": {},
   "source": [
    "Observando la salida, de los gráficos superiores, tenemos una idea más clara de por qué paro el entrenamiento después de la época 19. En él se observa cómo después de alrededor de la época de entrenamiento 3, la accuracy de validación parece estancarse siguiendo el mismo patrón a partir de entonces sin producirse ninguna mejora significativa. Además, la función de pérdida (*loss*) de la validación mantenie de igual modo la misma tendencia a partir de ese punto, mientras que la de entrenamiento sigue disminuyendo constantemente a un ritmo considerable, implicando que el modelo sigue mejorando en la predicción de los datos de entrenamiento, pero no impactando a la validación tal y como hemos supuesto antes.\n",
    "\n",
    "Así, aunque el modelo alcanza una precisión superior al 90% en el conjunto de entrenamiento, parece ocurrir lo mismo en el de validación, donde la precisión alcanza de igual manera más del 90% de precisión. Esto implica que parecen no existir claros indicios de sobreajuste a los datos del modelo. Sin embargo,ante la rara apariencia tan variables de las métricas de validación observadas en el gráfico, en el que aunque parecen seguir un patrón estable y quedarse estancadas, nos resulta extraño la tendencia abrupta de dichas métricas, se procede a tratar de implementar algunos métodos de regularización para ver si la tendencia mencionada disminuye y se logra suavizar en los notebooks posteriores esperando obtener resultados más estables durante la validación.\n",
    "\n",
    "En este sentido, aunque parece haber un patrón de mejora continua en la precisión de entrenamiento, la pérdida de validación fluctúa, lo cual podría indicar problemas con la varianza de los datos o con la forma en que el modelo está interactuando con el conjunto de validación. No obstante, el alto nivel de precisión de validación sugiere que el modelo está funcionando bien a pesar de estas fluctuaciones en la pérdida. Esto puede ser un indicativo de que el modelo es capaz de generalizar adecuadamente a pesar de su complejidad creciente, aunque el patrón de la pérdida podría sugerir el inicio de un sobreajuste si la tendencia a disminuir en la pérdida de entrenamiento continuara mucho más allá de este punto.\n",
    "Es decir, consideramos que estos resultados podrían deberse a algo circustancial, por lo que vamos a proceder a modificar la estructura de la red reutilizando los pesos del modelo base y explorar el *dropout* para tratar de ver si estos resultados obtenidos en este notebook se mantienen en el mismo camino o si efectivamente esta tendencia de las métricas de validación es algo circustancial."
   ]
  }
 ],
 "metadata": {
  "kernelspec": {
   "display_name": "ML2-DL",
   "language": "python",
   "name": "python3"
  },
  "language_info": {
   "codemirror_mode": {
    "name": "ipython",
    "version": 3
   },
   "file_extension": ".py",
   "mimetype": "text/x-python",
   "name": "python",
   "nbconvert_exporter": "python",
   "pygments_lexer": "ipython3",
   "version": "3.10.14"
  }
 },
 "nbformat": 4,
 "nbformat_minor": 2
}
